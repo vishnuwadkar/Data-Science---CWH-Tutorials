{
 "cells": [
  {
   "cell_type": "markdown",
   "id": "adbf19d9-8281-4573-a006-6dd6b4e8ec08",
   "metadata": {},
   "source": [
    "# Python Sets and Set Methods\n",
    "\n",
    "## What is a Set?\n",
    "A **set** in Python is an **unordered**, **mutable**, and **unique** collection of elements. It does not allow duplicate values.\n",
    "\n",
    "### Creating a Set:\n",
    "```python\n",
    "# Empty set (must use set(), not {})\n",
    "empty_set = set()\n",
    "\n",
    "# Set with elements\n",
    "numbers = {1, 2, 3, 4, 5}\n",
    "\n",
    "# Mixed data types\n",
    "mixed_set = {1, \"Hello\", 3.14, True}\n",
    "\n",
    "# Creating a set from a list\n",
    "unique_numbers = set([1, 2, 2, 3, 4, 4, 5])\n",
    "print(unique_numbers)  # {1, 2, 3, 4, 5}\n",
    "```\n",
    "\n",
    "## Common Set Methods\n",
    "\n",
    "| Method | Description | Example |\n",
    "|--------|------------|---------|\n",
    "| `add(x)` | Adds an element `x` to the set. | `my_set.add(10)` |\n",
    "| `update(iterable)` | Adds multiple elements from an iterable. | `my_set.update([6, 7, 8])` |\n",
    "| `remove(x)` | Removes `x` from the set (raises an error if not found). | `my_set.remove(3)` |\n",
    "| `discard(x)` | Removes `x` from the set (does not raise an error if not found). | `my_set.discard(3)` |\n",
    "| `pop()` | Removes and returns a random element. | `my_set.pop()` |\n",
    "| `clear()` | Removes all elements from the set. | `my_set.clear()` |\n",
    "| `copy()` | Returns a shallow copy of the set. | `new_set = my_set.copy()` |\n",
    "\n",
    "## Set Operations\n",
    "\n",
    "| Operation | Description | Example |\n",
    "|-----------|------------|---------|\n",
    "| `union(set2)` | Returns a new set with all unique elements from both sets. | `set1.union(set2)` |\n",
    "| `intersection(set2)` | Returns a set with elements common to both sets. | `set1.intersection(set2)` |\n",
    "| `difference(set2)` | Returns a set with elements in `set1` but not in `set2`. | `set1.difference(set2)` |\n",
    "| `symmetric_difference(set2)` | Returns a set with elements in either `set1` or `set2`, but not both. | `set1.symmetric_difference(set2)` |\n",
    "| `issubset(set2)` | Returns `True` if `set1` is a subset of `set2`. | `set1.issubset(set2)` |\n",
    "| `issuperset(set2)` | Returns `True` if `set1` is a superset of `set2`. | `set1.issuperset(set2)` |\n",
    "\n",
    "## Example Usage:\n",
    "```python\n",
    "set1 = {1, 2, 3, 4}\n",
    "set2 = {3, 4, 5, 6}\n",
    "\n",
    "# Union\n",
    "print(set1 | set2)  # {1, 2, 3, 4, 5, 6}\n",
    "\n",
    "# Intersection\n",
    "print(set1 & set2)  # {3, 4}\n",
    "\n",
    "# Difference\n",
    "print(set1 - set2)  # {1, 2}\n",
    "\n",
    "# Symmetric Difference\n",
    "print(set1 ^ set2)  # {1, 2, 5, 6}\n",
    "```\n",
    "\n",
    "## Key Properties of Sets:\n",
    "- **Unordered**: No indexing or slicing.\n",
    "- **Unique Elements**: Duplicates are automatically removed.\n",
    "- **Mutable**: You can add or remove elements.\n"
   ]
  },
  {
   "cell_type": "code",
   "execution_count": 1,
   "id": "464e97a9-67de-4942-8c7e-050ee025ab4b",
   "metadata": {},
   "outputs": [],
   "source": [
    "a = {}"
   ]
  },
  {
   "cell_type": "code",
   "execution_count": 2,
   "id": "47014ba9-9672-41de-9502-1812538a2474",
   "metadata": {},
   "outputs": [
    {
     "data": {
      "text/plain": [
       "dict"
      ]
     },
     "execution_count": 2,
     "metadata": {},
     "output_type": "execute_result"
    }
   ],
   "source": [
    "type(a)"
   ]
  },
  {
   "cell_type": "code",
   "execution_count": 3,
   "id": "41d5a297-4ead-4924-9cd2-59eb99ed95a0",
   "metadata": {},
   "outputs": [],
   "source": [
    "b = set()"
   ]
  },
  {
   "cell_type": "code",
   "execution_count": 4,
   "id": "b8c883c4-3cab-4453-8715-6b6caac4f5b3",
   "metadata": {},
   "outputs": [
    {
     "data": {
      "text/plain": [
       "set"
      ]
     },
     "execution_count": 4,
     "metadata": {},
     "output_type": "execute_result"
    }
   ],
   "source": [
    "type(b)"
   ]
  },
  {
   "cell_type": "code",
   "execution_count": 7,
   "id": "c7e24c31-6eed-48ae-99e4-49b01543826f",
   "metadata": {},
   "outputs": [],
   "source": [
    "s = {4, 3, 6, 2, 66, 4}"
   ]
  },
  {
   "cell_type": "code",
   "execution_count": 8,
   "id": "191c5426-f25a-47c5-8571-e1f8c80862ba",
   "metadata": {},
   "outputs": [
    {
     "data": {
      "text/plain": [
       "{2, 3, 4, 6, 66}"
      ]
     },
     "execution_count": 8,
     "metadata": {},
     "output_type": "execute_result"
    }
   ],
   "source": [
    "s"
   ]
  },
  {
   "cell_type": "code",
   "execution_count": 9,
   "id": "763881f9-6c8a-4703-9593-efa6d081c8b9",
   "metadata": {},
   "outputs": [
    {
     "name": "stdout",
     "output_type": "stream",
     "text": [
      "{1, 2, 3, 4, 5}\n"
     ]
    }
   ],
   "source": [
    "# Creating a set from a list\n",
    "unique_numbers = set([1, 2, 2, 3, 4, 4, 5])\n",
    "print(unique_numbers)  # {1, 2, 3, 4, 5}"
   ]
  },
  {
   "cell_type": "code",
   "execution_count": 10,
   "id": "76b94eb9-fb65-4569-b3a9-249fd07a5ccc",
   "metadata": {},
   "outputs": [],
   "source": [
    "s = {4, 3, 6, 2, 66, 4}"
   ]
  },
  {
   "cell_type": "code",
   "execution_count": 11,
   "id": "8b80107d-7ba2-462e-886f-409233d92a1a",
   "metadata": {},
   "outputs": [],
   "source": [
    "s.add(34)"
   ]
  },
  {
   "cell_type": "code",
   "execution_count": 12,
   "id": "5f77fee6-7924-4e7e-baf7-3f8fdc35995b",
   "metadata": {},
   "outputs": [
    {
     "data": {
      "text/plain": [
       "{2, 3, 4, 6, 34, 66}"
      ]
     },
     "execution_count": 12,
     "metadata": {},
     "output_type": "execute_result"
    }
   ],
   "source": [
    "s"
   ]
  },
  {
   "cell_type": "code",
   "execution_count": 13,
   "id": "9aef9a4a-1f56-404e-86cb-6a66edcb0043",
   "metadata": {},
   "outputs": [],
   "source": [
    "s.update([4, 64, 233])"
   ]
  },
  {
   "cell_type": "code",
   "execution_count": 14,
   "id": "a61f0a90-91cf-4878-aa72-746b627a8448",
   "metadata": {},
   "outputs": [
    {
     "data": {
      "text/plain": [
       "{2, 3, 4, 6, 34, 64, 66, 233}"
      ]
     },
     "execution_count": 14,
     "metadata": {},
     "output_type": "execute_result"
    }
   ],
   "source": [
    "s"
   ]
  },
  {
   "cell_type": "code",
   "execution_count": 15,
   "id": "fa19f007-8c2a-40df-b16c-45bed31f2141",
   "metadata": {},
   "outputs": [],
   "source": [
    "set1 = {1, 2, 3, 4}\n",
    "set2 = {3, 4, 5, 6}"
   ]
  },
  {
   "cell_type": "code",
   "execution_count": 16,
   "id": "4777d94b-61de-433a-b3ed-3f37185f128d",
   "metadata": {},
   "outputs": [
    {
     "data": {
      "text/plain": [
       "{1, 2, 3, 4, 5, 6}"
      ]
     },
     "execution_count": 16,
     "metadata": {},
     "output_type": "execute_result"
    }
   ],
   "source": [
    "set1.union(set2)"
   ]
  },
  {
   "cell_type": "code",
   "execution_count": 17,
   "id": "161f5861-c19f-46fa-b478-92276df6e78f",
   "metadata": {},
   "outputs": [
    {
     "data": {
      "text/plain": [
       "{1, 2, 3, 4}"
      ]
     },
     "execution_count": 17,
     "metadata": {},
     "output_type": "execute_result"
    }
   ],
   "source": [
    "set1"
   ]
  },
  {
   "cell_type": "code",
   "execution_count": 18,
   "id": "a6509021-08a7-437e-b455-8f8f439ffc13",
   "metadata": {},
   "outputs": [
    {
     "data": {
      "text/plain": [
       "{3, 4, 5, 6}"
      ]
     },
     "execution_count": 18,
     "metadata": {},
     "output_type": "execute_result"
    }
   ],
   "source": [
    "set2"
   ]
  },
  {
   "cell_type": "code",
   "execution_count": 19,
   "id": "241ea277-125e-462d-a0e3-4539aac459b1",
   "metadata": {},
   "outputs": [
    {
     "data": {
      "text/plain": [
       "{3, 4}"
      ]
     },
     "execution_count": 19,
     "metadata": {},
     "output_type": "execute_result"
    }
   ],
   "source": [
    "set1.intersection(set2)"
   ]
  },
  {
   "cell_type": "code",
   "execution_count": 20,
   "id": "d6e2555d-c39d-4bc9-a8f4-439ea555a1f7",
   "metadata": {},
   "outputs": [],
   "source": [
    "sub = {1, 3}"
   ]
  },
  {
   "cell_type": "code",
   "execution_count": 21,
   "id": "6b5e88fc-5df4-4009-b83c-d9f067616426",
   "metadata": {},
   "outputs": [
    {
     "data": {
      "text/plain": [
       "True"
      ]
     },
     "execution_count": 21,
     "metadata": {},
     "output_type": "execute_result"
    }
   ],
   "source": [
    "sub.issubset(set1)"
   ]
  },
  {
   "cell_type": "code",
   "execution_count": 22,
   "id": "54c8547f-82f6-41fd-931f-d9e1a035fea9",
   "metadata": {},
   "outputs": [
    {
     "data": {
      "text/plain": [
       "True"
      ]
     },
     "execution_count": 22,
     "metadata": {},
     "output_type": "execute_result"
    }
   ],
   "source": [
    "set1.issuperset(sub)"
   ]
  },
  {
   "cell_type": "code",
   "execution_count": null,
   "id": "de6d45ab-d665-4316-ae6a-e5c9324f342f",
   "metadata": {},
   "outputs": [],
   "source": []
  }
 ],
 "metadata": {
  "kernelspec": {
   "display_name": "Python [conda env:base] *",
   "language": "python",
   "name": "conda-base-py"
  },
  "language_info": {
   "codemirror_mode": {
    "name": "ipython",
    "version": 3
   },
   "file_extension": ".py",
   "mimetype": "text/x-python",
   "name": "python",
   "nbconvert_exporter": "python",
   "pygments_lexer": "ipython3",
   "version": "3.12.7"
  }
 },
 "nbformat": 4,
 "nbformat_minor": 5
}
