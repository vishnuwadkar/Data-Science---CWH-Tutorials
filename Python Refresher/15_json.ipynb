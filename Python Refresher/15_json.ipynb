{
 "cells": [
  {
   "cell_type": "markdown",
   "id": "6245d64c-3d6f-4391-b8b0-76108dde787a",
   "metadata": {},
   "source": [
    "# Python `json` Module – Working with JSON Data\n",
    "\n",
    "## What is JSON?\n",
    "JSON (**JavaScript Object Notation**) is a lightweight data format used for data exchange between servers and applications. It is widely used in **APIs, web applications, and configurations**.\n",
    "\n",
    "Python provides the `json` module to work with JSON data.\n",
    "\n",
    "---\n",
    "\n",
    "## Importing the JSON Module\n",
    "```python\n",
    "import json\n",
    "```\n",
    "\n",
    "---\n",
    "\n",
    "## Converting Python Objects to JSON (Serialization)\n",
    "Serialization (also called **encoding or dumping**) is converting a Python object into a JSON-formatted string.\n",
    "\n",
    "### **`json.dumps()`** – Convert Python object to JSON string\n",
    "```python\n",
    "import json\n",
    "\n",
    "data = {\"name\": \"Alice\", \"age\": 25, \"city\": \"New York\"}\n",
    "\n",
    "json_string = json.dumps(data)\n",
    "print(json_string)  # Output: {\"name\": \"Alice\", \"age\": 25, \"city\": \"New York\"}\n",
    "print(type(json_string))  # <class 'str'>\n",
    "```\n",
    "\n",
    "### **`json.dump()`** – Write JSON data to a file\n",
    "```python\n",
    "with open(\"data.json\", \"w\") as file:\n",
    "    json.dump(data, file)\n",
    "```\n",
    "\n",
    "---\n",
    "\n",
    "## Converting JSON to Python Objects (Deserialization)\n",
    "Deserialization (also called **decoding or loading**) is converting JSON-formatted data into Python objects.\n",
    "\n",
    "### **`json.loads()`** – Convert JSON string to Python object\n",
    "```python\n",
    "json_data = '{\"name\": \"Alice\", \"age\": 25, \"city\": \"New York\"}'\n",
    "\n",
    "python_obj = json.loads(json_data)\n",
    "print(python_obj)  # Output: {'name': 'Alice', 'age': 25, 'city': 'New York'}\n",
    "print(type(python_obj))  # <class 'dict'>\n",
    "```\n",
    "\n",
    "### **`json.load()`** – Read JSON data from a file\n",
    "```python\n",
    "with open(\"data.json\", \"r\") as file:\n",
    "    python_data = json.load(file)\n",
    "\n",
    "print(python_data)  # Output: {'name': 'Alice', 'age': 25, 'city': 'New York'}\n",
    "```\n",
    "\n",
    "---\n",
    "\n",
    "## Formatting JSON Output\n",
    "You can format JSON for better readability using **indentation**.\n",
    "\n",
    "```python\n",
    "formatted_json = json.dumps(data, indent=4)\n",
    "print(formatted_json)\n",
    "```\n",
    "**Output:**\n",
    "```json\n",
    "{\n",
    "    \"name\": \"Alice\",\n",
    "    \"age\": 25,\n",
    "    \"city\": \"New York\"\n",
    "}\n",
    "```\n",
    "\n",
    "---\n",
    "\n",
    "## Summary of Common JSON Methods\n",
    "\n",
    "| Method | Description | Example |\n",
    "|--------|------------|---------|\n",
    "| `json.dumps(obj)` | Converts Python object to JSON string | `json.dumps(data)` |\n",
    "| `json.dump(obj, file)` | Writes JSON to a file | `json.dump(data, file)` |\n",
    "| `json.loads(json_string)` | Converts JSON string to Python object | `json.loads(json_data)` |\n",
    "| `json.load(file)` | Reads JSON from a file | `json.load(file)` |\n",
    "\n",
    " "
   ]
  },
  {
   "cell_type": "code",
   "execution_count": 7,
   "id": "1f71f072-19cc-4f90-95b3-a8150976ec5f",
   "metadata": {},
   "outputs": [],
   "source": [
    "import json"
   ]
  },
  {
   "cell_type": "code",
   "execution_count": 11,
   "id": "06e54c13-f32c-4eef-8a89-8f44f4e84c38",
   "metadata": {},
   "outputs": [
    {
     "name": "stdout",
     "output_type": "stream",
     "text": [
      "{\"name\": \"Alice\", \"company\": \"IBM\", \"salary\": 45000}\n"
     ]
    }
   ],
   "source": [
    "obj = {\"name\": \"Alice\", \"company\": \"IBM\", \"salary\": 45000}\n",
    "s = json.dumps(obj)\n",
    "type(s)\n",
    "print(s)"
   ]
  },
  {
   "cell_type": "code",
   "execution_count": 12,
   "id": "01909d6b-70c8-4026-8ae3-25be2aaf9db0",
   "metadata": {},
   "outputs": [],
   "source": [
    "d = json.loads('{\"name\": \"Alice\", \"company\": \"IBM\", \"salary\": 45000}')"
   ]
  },
  {
   "cell_type": "code",
   "execution_count": 13,
   "id": "50df4a3d-1829-4058-bd98-ed1cf44e76de",
   "metadata": {},
   "outputs": [
    {
     "data": {
      "text/plain": [
       "dict"
      ]
     },
     "execution_count": 13,
     "metadata": {},
     "output_type": "execute_result"
    }
   ],
   "source": [
    "type(d)"
   ]
  },
  {
   "cell_type": "code",
   "execution_count": 14,
   "id": "d7d49e84-9ef4-4260-b4aa-a3052f245150",
   "metadata": {},
   "outputs": [],
   "source": [
    "file = open(\"data.json\", \"w\")"
   ]
  },
  {
   "cell_type": "code",
   "execution_count": 16,
   "id": "4b3c91b5-f4e8-45c3-a546-d590ca59dfd1",
   "metadata": {},
   "outputs": [],
   "source": [
    "json.dump(obj, file)"
   ]
  },
  {
   "cell_type": "code",
   "execution_count": 17,
   "id": "58b855fc-95e2-45cf-b24f-0e3f95117582",
   "metadata": {},
   "outputs": [],
   "source": [
    "file.close()"
   ]
  },
  {
   "cell_type": "code",
   "execution_count": null,
   "id": "6f26f792-302d-4ea6-9bee-32027367105b",
   "metadata": {},
   "outputs": [],
   "source": []
  },
  {
   "cell_type": "code",
   "execution_count": null,
   "id": "2da5ab6a-dcdb-4536-9db8-d052cfce5213",
   "metadata": {},
   "outputs": [],
   "source": []
  }
 ],
 "metadata": {
  "kernelspec": {
   "display_name": "Python [conda env:base] *",
   "language": "python",
   "name": "conda-base-py"
  },
  "language_info": {
   "codemirror_mode": {
    "name": "ipython",
    "version": 3
   },
   "file_extension": ".py",
   "mimetype": "text/x-python",
   "name": "python",
   "nbconvert_exporter": "python",
   "pygments_lexer": "ipython3",
   "version": "3.12.7"
  }
 },
 "nbformat": 4,
 "nbformat_minor": 5
}
