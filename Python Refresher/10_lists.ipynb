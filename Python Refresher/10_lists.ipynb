{
 "cells": [
  {
   "cell_type": "markdown",
   "id": "4c780038-1fec-408a-bc9c-9971ba1108da",
   "metadata": {},
   "source": [
    "# Python Lists and List Methods\n",
    "\n",
    "## What is a List?\n",
    "A **list** in Python is an ordered, mutable collection of elements. It can contain elements of different types.\n",
    "\n",
    "### Creating a List:\n",
    "```python\n",
    "# Empty list\n",
    "my_list = []\n",
    "\n",
    "# List with elements\n",
    "numbers = [1, 2, 3, 4, 5]\n",
    "\n",
    "# Mixed data types\n",
    "mixed_list = [1, \"Hello\", 3.14, True]\n",
    "```\n",
    "\n",
    "## Common List Methods\n",
    "\n",
    "| Method | Description | Example |\n",
    "|--------|------------|---------|\n",
    "| `append(x)` | Adds an element `x` to the end of the list. | `my_list.append(10)` |\n",
    "| `extend(iterable)` | Extends the list by appending all elements from an iterable. | `my_list.extend([6, 7, 8])` |\n",
    "| `insert(index, x)` | Inserts `x` at the specified `index`. | `my_list.insert(2, \"Python\")` |\n",
    "| `remove(x)` | Removes the first occurrence of `x` in the list. | `my_list.remove(3)` |\n",
    "| `pop([index])` | Removes and returns the element at `index` (last element if index is not provided). | `my_list.pop(2)` |\n",
    "| `index(x)` | Returns the index of the first occurrence of `x`. | `my_list.index(4)` |\n",
    "| `count(x)` | Returns the number of times `x` appears in the list. | `my_list.count(2)` |\n",
    "| `sort()` | Sorts the list in ascending order. | `my_list.sort()` |\n",
    "| `reverse()` | Reverses the order of the list. | `my_list.reverse()` |\n",
    "| `copy()` | Returns a shallow copy of the list. | `new_list = my_list.copy()` |\n",
    "| `clear()` | Removes all elements from the list. | `my_list.clear()` |\n",
    "\n",
    "## Example Usage:\n",
    "```python\n",
    "fruits = [\"apple\", \"banana\", \"cherry\"]\n",
    "fruits.append(\"orange\")\n",
    "print(fruits)  # ['apple', 'banana', 'cherry', 'orange']\n",
    "\n",
    "fruits.sort()\n",
    "print(fruits)  # ['apple', 'banana', 'cherry', 'orange']\n",
    "```\n",
    "\n",
    " "
   ]
  },
  {
   "cell_type": "code",
   "execution_count": 1,
   "id": "c3e90eed-a328-4062-b965-6764d90782ce",
   "metadata": {},
   "outputs": [],
   "source": [
    "l = [3, 5, 23, 3]"
   ]
  },
  {
   "cell_type": "code",
   "execution_count": 5,
   "id": "32f037b2-f635-4df7-9d2b-6d1e74c15b14",
   "metadata": {},
   "outputs": [],
   "source": [
    "l[0] = 4"
   ]
  },
  {
   "cell_type": "code",
   "execution_count": 6,
   "id": "de732432-aa60-42f3-ab32-b08450367fe8",
   "metadata": {},
   "outputs": [
    {
     "data": {
      "text/plain": [
       "[4, 5, 23, 3]"
      ]
     },
     "execution_count": 6,
     "metadata": {},
     "output_type": "execute_result"
    }
   ],
   "source": [
    "l"
   ]
  },
  {
   "cell_type": "code",
   "execution_count": 7,
   "id": "704f690a-217e-4467-93d2-099b69053ea3",
   "metadata": {},
   "outputs": [
    {
     "data": {
      "text/plain": [
       "[4, 5, 23, 3]"
      ]
     },
     "execution_count": 7,
     "metadata": {},
     "output_type": "execute_result"
    }
   ],
   "source": [
    "l"
   ]
  },
  {
   "cell_type": "code",
   "execution_count": 8,
   "id": "1501d1ff-4432-4930-8e9f-63f94614c36e",
   "metadata": {},
   "outputs": [],
   "source": [
    "l.append(9)"
   ]
  },
  {
   "cell_type": "code",
   "execution_count": 9,
   "id": "1179960c-06a0-4994-a4aa-7fee78723e0f",
   "metadata": {},
   "outputs": [
    {
     "data": {
      "text/plain": [
       "[4, 5, 23, 3, 9]"
      ]
     },
     "execution_count": 9,
     "metadata": {},
     "output_type": "execute_result"
    }
   ],
   "source": [
    "l"
   ]
  },
  {
   "cell_type": "code",
   "execution_count": 10,
   "id": "bc5d65c3-cc50-431b-bbca-879c26e5dc41",
   "metadata": {},
   "outputs": [],
   "source": [
    "l2 = [5, 7]"
   ]
  },
  {
   "cell_type": "code",
   "execution_count": 11,
   "id": "bfa67fdb-3e93-4a6a-ae75-dad8f8a8432a",
   "metadata": {},
   "outputs": [],
   "source": [
    "l.extend(l2)"
   ]
  },
  {
   "cell_type": "code",
   "execution_count": 12,
   "id": "045c0bf0-3d9e-46ea-ada8-74a6fff393a5",
   "metadata": {},
   "outputs": [
    {
     "data": {
      "text/plain": [
       "[4, 5, 23, 3, 9, 5, 7]"
      ]
     },
     "execution_count": 12,
     "metadata": {},
     "output_type": "execute_result"
    }
   ],
   "source": [
    "l"
   ]
  },
  {
   "cell_type": "code",
   "execution_count": 13,
   "id": "4d4fa9f2-d528-4154-9688-f5afefaa044e",
   "metadata": {},
   "outputs": [],
   "source": [
    "l.insert(1, 200) # Insert 200 at index 1"
   ]
  },
  {
   "cell_type": "code",
   "execution_count": 14,
   "id": "4b26100f-417a-4787-82b7-f13147d6401a",
   "metadata": {},
   "outputs": [
    {
     "data": {
      "text/plain": [
       "[4, 200, 5, 23, 3, 9, 5, 7]"
      ]
     },
     "execution_count": 14,
     "metadata": {},
     "output_type": "execute_result"
    }
   ],
   "source": [
    "l"
   ]
  },
  {
   "cell_type": "code",
   "execution_count": 15,
   "id": "3e030d8f-7c39-4857-a2ec-6904e6b8f536",
   "metadata": {},
   "outputs": [],
   "source": [
    "number = l.pop(4)"
   ]
  },
  {
   "cell_type": "code",
   "execution_count": 16,
   "id": "4b51a7d7-9429-4e87-ac84-8b4c42b7c8a4",
   "metadata": {},
   "outputs": [
    {
     "data": {
      "text/plain": [
       "3"
      ]
     },
     "execution_count": 16,
     "metadata": {},
     "output_type": "execute_result"
    }
   ],
   "source": [
    "number"
   ]
  },
  {
   "cell_type": "code",
   "execution_count": 17,
   "id": "58f00abb-b4b3-4dd7-b48c-21685bd82919",
   "metadata": {},
   "outputs": [
    {
     "data": {
      "text/plain": [
       "[4, 200, 5, 23, 9, 5, 7]"
      ]
     },
     "execution_count": 17,
     "metadata": {},
     "output_type": "execute_result"
    }
   ],
   "source": [
    "l"
   ]
  },
  {
   "cell_type": "code",
   "execution_count": 18,
   "id": "17badf35-4845-492c-8bc5-52eb0e5d8c3f",
   "metadata": {},
   "outputs": [
    {
     "data": {
      "text/plain": [
       "0"
      ]
     },
     "execution_count": 18,
     "metadata": {},
     "output_type": "execute_result"
    }
   ],
   "source": [
    "l.index(4)"
   ]
  },
  {
   "cell_type": "code",
   "execution_count": 19,
   "id": "73cf0b61-1a24-43cc-9bac-797cbf1d4d39",
   "metadata": {},
   "outputs": [
    {
     "data": {
      "text/plain": [
       "3"
      ]
     },
     "execution_count": 19,
     "metadata": {},
     "output_type": "execute_result"
    }
   ],
   "source": [
    "l.index(23)"
   ]
  },
  {
   "cell_type": "code",
   "execution_count": 20,
   "id": "5c16d9e0-454e-40f0-99f1-987cda2e5cef",
   "metadata": {},
   "outputs": [],
   "source": [
    "l.append(4)"
   ]
  },
  {
   "cell_type": "code",
   "execution_count": 21,
   "id": "b41b3c46-da1a-46b3-bc72-cf0d656b68a7",
   "metadata": {},
   "outputs": [
    {
     "data": {
      "text/plain": [
       "[4, 200, 5, 23, 9, 5, 7, 4]"
      ]
     },
     "execution_count": 21,
     "metadata": {},
     "output_type": "execute_result"
    }
   ],
   "source": [
    "l"
   ]
  },
  {
   "cell_type": "code",
   "execution_count": 22,
   "id": "0b6dc3c2-b476-4d69-a45d-626c05470d73",
   "metadata": {},
   "outputs": [
    {
     "data": {
      "text/plain": [
       "2"
      ]
     },
     "execution_count": 22,
     "metadata": {},
     "output_type": "execute_result"
    }
   ],
   "source": [
    "l.count(4)"
   ]
  },
  {
   "cell_type": "code",
   "execution_count": 24,
   "id": "d0163dcc-1a80-4458-ae51-f0ee17357a2b",
   "metadata": {},
   "outputs": [],
   "source": [
    "l.sort() # changes and sorts the original list in ascending order"
   ]
  },
  {
   "cell_type": "code",
   "execution_count": 26,
   "id": "c1d25db6-9240-406c-9849-1c595697cd5d",
   "metadata": {},
   "outputs": [
    {
     "data": {
      "text/plain": [
       "[4, 4, 5, 5, 7, 9, 23, 200]"
      ]
     },
     "execution_count": 26,
     "metadata": {},
     "output_type": "execute_result"
    }
   ],
   "source": [
    "l"
   ]
  },
  {
   "cell_type": "code",
   "execution_count": 27,
   "id": "f2664236-d994-4b4d-80f2-e91e797c77a4",
   "metadata": {},
   "outputs": [
    {
     "data": {
      "text/plain": [
       "[4, 4, 5, 5, 7, 9, 23, 200]"
      ]
     },
     "execution_count": 27,
     "metadata": {},
     "output_type": "execute_result"
    }
   ],
   "source": [
    "sorted(l)"
   ]
  },
  {
   "cell_type": "code",
   "execution_count": 28,
   "id": "6c8071dd-0572-4889-abff-293631c06254",
   "metadata": {},
   "outputs": [],
   "source": [
    "newl = [2, 6, 1, 21, 6]"
   ]
  },
  {
   "cell_type": "code",
   "execution_count": 29,
   "id": "ee55806f-36a8-4092-b346-7e19ddee8f13",
   "metadata": {},
   "outputs": [
    {
     "data": {
      "text/plain": [
       "[1, 2, 6, 6, 21]"
      ]
     },
     "execution_count": 29,
     "metadata": {},
     "output_type": "execute_result"
    }
   ],
   "source": [
    "sorted(newl) # Returns a new list which is sorted version of the original list"
   ]
  },
  {
   "cell_type": "code",
   "execution_count": 30,
   "id": "11e82869-578f-4234-8f2b-6f72c8baa201",
   "metadata": {},
   "outputs": [
    {
     "data": {
      "text/plain": [
       "[2, 6, 1, 21, 6]"
      ]
     },
     "execution_count": 30,
     "metadata": {},
     "output_type": "execute_result"
    }
   ],
   "source": [
    "newl"
   ]
  },
  {
   "cell_type": "code",
   "execution_count": 31,
   "id": "a69c265c-1a6f-4dd3-a543-b7fd7caf55b8",
   "metadata": {},
   "outputs": [],
   "source": [
    "y = [1, 2, True, False, [4, 7]]"
   ]
  },
  {
   "cell_type": "code",
   "execution_count": 32,
   "id": "e35b6728-fe9a-46d2-b511-e6d62091e014",
   "metadata": {},
   "outputs": [
    {
     "data": {
      "text/plain": [
       "[1, 2, True, False, [4, 7]]"
      ]
     },
     "execution_count": 32,
     "metadata": {},
     "output_type": "execute_result"
    }
   ],
   "source": [
    "y"
   ]
  },
  {
   "cell_type": "code",
   "execution_count": 33,
   "id": "d6efd2df-42be-412e-9adc-c5ab5c85a924",
   "metadata": {},
   "outputs": [
    {
     "data": {
      "text/plain": [
       "[4, 7]"
      ]
     },
     "execution_count": 33,
     "metadata": {},
     "output_type": "execute_result"
    }
   ],
   "source": [
    "y[4]"
   ]
  },
  {
   "cell_type": "code",
   "execution_count": 35,
   "id": "ad161143-eace-4a11-8a7c-fabb7117e1f2",
   "metadata": {},
   "outputs": [
    {
     "data": {
      "text/plain": [
       "7"
      ]
     },
     "execution_count": 35,
     "metadata": {},
     "output_type": "execute_result"
    }
   ],
   "source": [
    "y[4][1]"
   ]
  },
  {
   "cell_type": "code",
   "execution_count": 36,
   "id": "037d83a3-194e-4297-904b-dc12e6b2b5d4",
   "metadata": {},
   "outputs": [],
   "source": [
    "list1 = [4, 32, 12]"
   ]
  },
  {
   "cell_type": "code",
   "execution_count": 37,
   "id": "adfade18-1c20-4fd9-82a2-1cc17a4c2b24",
   "metadata": {},
   "outputs": [],
   "source": [
    "list2 = [3, 1, 8]"
   ]
  },
  {
   "cell_type": "code",
   "execution_count": 38,
   "id": "0c839e79-c11c-4f79-a710-0c25b407778a",
   "metadata": {},
   "outputs": [
    {
     "data": {
      "text/plain": [
       "[4, 32, 12, 3, 1, 8]"
      ]
     },
     "execution_count": 38,
     "metadata": {},
     "output_type": "execute_result"
    }
   ],
   "source": [
    "list1 + list2"
   ]
  },
  {
   "cell_type": "code",
   "execution_count": 39,
   "id": "d2281a2f-80f9-4fa9-8237-e7ad06ce398a",
   "metadata": {},
   "outputs": [
    {
     "data": {
      "text/plain": [
       "[4, 32, 12]"
      ]
     },
     "execution_count": 39,
     "metadata": {},
     "output_type": "execute_result"
    }
   ],
   "source": [
    "list1"
   ]
  },
  {
   "cell_type": "code",
   "execution_count": 40,
   "id": "2df68de8-04a4-4680-a117-3c53dc3f0b4e",
   "metadata": {},
   "outputs": [
    {
     "data": {
      "text/plain": [
       "[3, 1, 8]"
      ]
     },
     "execution_count": 40,
     "metadata": {},
     "output_type": "execute_result"
    }
   ],
   "source": [
    "list2"
   ]
  },
  {
   "cell_type": "code",
   "execution_count": 42,
   "id": "825fc8ae-a0f6-45df-b00e-a979473349c2",
   "metadata": {},
   "outputs": [],
   "source": [
    "if 33 in list2:\n",
    "    print(\"Yes\")"
   ]
  },
  {
   "cell_type": "code",
   "execution_count": 44,
   "id": "95ebd08f-729b-47b9-a5b8-b77e5abb34aa",
   "metadata": {},
   "outputs": [
    {
     "data": {
      "text/plain": [
       "True"
      ]
     },
     "execution_count": 44,
     "metadata": {},
     "output_type": "execute_result"
    }
   ],
   "source": [
    "3 in list2"
   ]
  },
  {
   "cell_type": "code",
   "execution_count": 46,
   "id": "0ddd5bd6-90c8-4370-b835-e1a483d362de",
   "metadata": {},
   "outputs": [],
   "source": [
    "s = \"jack-jill-shubham-kirti-javed-salman-akshay\""
   ]
  },
  {
   "cell_type": "code",
   "execution_count": 47,
   "id": "fe7e6b5f-6149-4813-93ff-f5bbc5099eeb",
   "metadata": {},
   "outputs": [
    {
     "data": {
      "text/plain": [
       "['jack', 'jill', 'shubham', 'kirti', 'javed', 'salman', 'akshay']"
      ]
     },
     "execution_count": 47,
     "metadata": {},
     "output_type": "execute_result"
    }
   ],
   "source": [
    "s.split(\"-\")"
   ]
  },
  {
   "cell_type": "code",
   "execution_count": null,
   "id": "32408932-9450-4b05-9713-3fbc634efb05",
   "metadata": {},
   "outputs": [],
   "source": []
  }
 ],
 "metadata": {
  "kernelspec": {
   "display_name": "Python [conda env:base] *",
   "language": "python",
   "name": "conda-base-py"
  },
  "language_info": {
   "codemirror_mode": {
    "name": "ipython",
    "version": 3
   },
   "file_extension": ".py",
   "mimetype": "text/x-python",
   "name": "python",
   "nbconvert_exporter": "python",
   "pygments_lexer": "ipython3",
   "version": "3.12.7"
  }
 },
 "nbformat": 4,
 "nbformat_minor": 5
}
