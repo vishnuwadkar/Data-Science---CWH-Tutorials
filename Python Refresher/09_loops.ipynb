{
 "cells": [
  {
   "cell_type": "markdown",
   "id": "6e59e3ee-12cd-4db9-bcdc-66e6e6a37719",
   "metadata": {},
   "source": [
    "# Loops in Python\n",
    "\n",
    "Python has two main loops: `for` and `while`.\n",
    "\n",
    "## 1. For Loop\n",
    "\n",
    "Used to iterate over sequences like lists, tuples, and strings.\n",
    "\n",
    "```python\n",
    "fruits = [\"apple\", \"banana\", \"cherry\"]\n",
    "\n",
    "for fruit in fruits:\n",
    "    print(fruit)\n",
    "```\n",
    "\n",
    "### Using `range()`\n",
    "```python\n",
    "for i in range(3):\n",
    "    print(i)  # Output: 0, 1, 2\n",
    "```\n",
    "\n",
    "## 2. While Loop\n",
    "\n",
    "Runs as long as a condition is `True`.\n",
    "\n",
    "```python\n",
    "count = 0\n",
    "while count < 3:\n",
    "    print(count)\n",
    "    count += 1\n",
    "```\n",
    "\n",
    "### Output:\n",
    "```\n",
    "0\n",
    "1\n",
    "2\n",
    "```\n",
    "\n",
    "## 3. Loop Control Statements\n",
    "- `break` → Exits the loop.\n",
    "- `continue` → Skips to the next iteration.\n",
    "- `pass` → Does nothing (used as a placeholder).\n",
    "\n",
    "```python\n",
    "for i in range(5):\n",
    "    if i == 3:\n",
    "        break  # Stops the loop at 3\n",
    "    print(i)\n",
    "```\n",
    " "
   ]
  },
  {
   "cell_type": "code",
   "execution_count": 1,
   "id": "d239b148-2f0d-4649-a683-0229a95a37a5",
   "metadata": {},
   "outputs": [],
   "source": [
    "l = [3, 5, 6, 67]"
   ]
  },
  {
   "cell_type": "code",
   "execution_count": 2,
   "id": "2860869f-b883-42ca-bb61-45077a460aeb",
   "metadata": {},
   "outputs": [
    {
     "name": "stdout",
     "output_type": "stream",
     "text": [
      "3\n",
      "5\n",
      "6\n",
      "67\n"
     ]
    }
   ],
   "source": [
    "for item in l:\n",
    "    print(item)\n",
    "    "
   ]
  },
  {
   "cell_type": "code",
   "execution_count": 6,
   "id": "04de791b-b45f-4e1e-8250-b274ef4513c2",
   "metadata": {},
   "outputs": [
    {
     "name": "stdout",
     "output_type": "stream",
     "text": [
      "5\n",
      "6\n",
      "7\n",
      "8\n",
      "9\n",
      "10\n"
     ]
    }
   ],
   "source": [
    "for i in range(5, 11):\n",
    "    print(i)"
   ]
  },
  {
   "cell_type": "code",
   "execution_count": 7,
   "id": "78f3724c-3baa-481d-91b7-ec5a32ed9096",
   "metadata": {},
   "outputs": [
    {
     "name": "stdout",
     "output_type": "stream",
     "text": [
      "0\n",
      "1\n",
      "2\n",
      "3\n",
      "4\n",
      "5\n",
      "6\n",
      "7\n",
      "8\n",
      "9\n",
      "10\n",
      "11\n"
     ]
    }
   ],
   "source": [
    "i = 0\n",
    "while i<12:\n",
    "    print(i)\n",
    "    i = i + 1"
   ]
  },
  {
   "cell_type": "code",
   "execution_count": 10,
   "id": "bdbd5e44-4348-46a2-8dd0-5bee2fb335e9",
   "metadata": {},
   "outputs": [
    {
     "name": "stdout",
     "output_type": "stream",
     "text": [
      "Hello\n"
     ]
    }
   ],
   "source": [
    "for item in l:\n",
    "    pass # Dont do anything\n",
    "\n",
    "print(\"Hello\")"
   ]
  },
  {
   "cell_type": "code",
   "execution_count": 12,
   "id": "e19261bf-82ac-4181-916c-eb9a18b339bb",
   "metadata": {},
   "outputs": [
    {
     "name": "stdout",
     "output_type": "stream",
     "text": [
      "apples\n"
     ]
    }
   ],
   "source": [
    "l = [\"apples\", \"bananas\", \"tomatoes\"]\n",
    "for item in l:\n",
    "    if(item == \"bananas\"):\n",
    "        break # Stop this loop right here\n",
    "    print(item)"
   ]
  },
  {
   "cell_type": "code",
   "execution_count": 14,
   "id": "c855aa92-d1d1-433e-b18c-788b59d8d027",
   "metadata": {},
   "outputs": [
    {
     "name": "stdout",
     "output_type": "stream",
     "text": [
      "apples\n",
      "tomatoes\n"
     ]
    }
   ],
   "source": [
    "l = [\"apples\", \"bananas\", \"tomatoes\"]\n",
    "for item in l:\n",
    "    if(item == \"bananas\"):\n",
    "        continue # Skip this particular iteration of the loop\n",
    "    print(item)"
   ]
  },
  {
   "cell_type": "code",
   "execution_count": null,
   "id": "86144592-c5cc-48dd-a061-a376a992220b",
   "metadata": {},
   "outputs": [],
   "source": []
  }
 ],
 "metadata": {
  "kernelspec": {
   "display_name": "Python [conda env:base] *",
   "language": "python",
   "name": "conda-base-py"
  },
  "language_info": {
   "codemirror_mode": {
    "name": "ipython",
    "version": 3
   },
   "file_extension": ".py",
   "mimetype": "text/x-python",
   "name": "python",
   "nbconvert_exporter": "python",
   "pygments_lexer": "ipython3",
   "version": "3.12.7"
  }
 },
 "nbformat": 4,
 "nbformat_minor": 5
}
