{
 "cells": [
  {
   "cell_type": "code",
   "execution_count": 2,
   "id": "e7ed037c-5988-4f90-a3de-b73ffe2a864a",
   "metadata": {},
   "outputs": [],
   "source": [
    "import numpy as np"
   ]
  },
  {
   "cell_type": "code",
   "execution_count": 11,
   "id": "23856ea8-b850-44a2-89d5-39cd66aa0e6d",
   "metadata": {},
   "outputs": [
    {
     "name": "stdout",
     "output_type": "stream",
     "text": [
      "[[1 2 3]\n",
      " [4 5 6]\n",
      " [7 8 9]]\n"
     ]
    }
   ],
   "source": [
    "arr = np.array([[1,2,3],\n",
    "       [4,5,6],\n",
    "       [7,8,9]])\n",
    "print(arr)"
   ]
  },
  {
   "cell_type": "markdown",
   "id": "f71738da-95ca-4f2f-acb3-797430d8dcf2",
   "metadata": {},
   "source": [
    "### Axis 0 (rows) → Operations move down the columns.\n",
    "### Axis 1 (columns) → Operations move across the rows."
   ]
  },
  {
   "cell_type": "markdown",
   "id": "8040f560-a86f-4684-9a84-d3e5b2caee82",
   "metadata": {},
   "source": [
    "#### summing along the axes"
   ]
  },
  {
   "cell_type": "code",
   "execution_count": 12,
   "id": "ad97723e-b56b-46a4-868b-c277202cd2ee",
   "metadata": {},
   "outputs": [
    {
     "name": "stdout",
     "output_type": "stream",
     "text": [
      "[12 15 18]\n"
     ]
    }
   ],
   "source": [
    "print(np.sum(arr,axis=0))   #Sum along rows (down each column)"
   ]
  },
  {
   "cell_type": "code",
   "execution_count": 13,
   "id": "d7affd79-30ba-434f-b0b3-0d682bf094fe",
   "metadata": {},
   "outputs": [
    {
     "name": "stdout",
     "output_type": "stream",
     "text": [
      "[ 6 15 24]\n"
     ]
    }
   ],
   "source": [
    "print(np.sum(arr,axis=1))   #Sum along columns (across each row)"
   ]
  },
  {
   "cell_type": "markdown",
   "id": "97156526-083b-482f-bb69-81b135b90039",
   "metadata": {},
   "source": [
    "## 2. Indexing in Multidimensional Arrays"
   ]
  },
  {
   "cell_type": "code",
   "execution_count": 15,
   "id": "dafea43a-bc46-4771-8481-c4c32d89ae47",
   "metadata": {},
   "outputs": [
    {
     "name": "stdout",
     "output_type": "stream",
     "text": [
      "6\n"
     ]
    }
   ],
   "source": [
    "print(arr[1, 2])   #accesing elements\n",
    "#this prints: row = 1, column = 2"
   ]
  },
  {
   "cell_type": "code",
   "execution_count": 19,
   "id": "a8068719-31cb-49c2-a111-a7fc0d499726",
   "metadata": {},
   "outputs": [
    {
     "name": "stdout",
     "output_type": "stream",
     "text": [
      "[[2 3]\n",
      " [5 6]]\n"
     ]
    }
   ],
   "source": [
    "print(arr[0:2,1:3])\n",
    "#this prints elements: row 0 and 1\n",
    "#and from 0 and 1 row, access column 1 and 2"
   ]
  },
  {
   "cell_type": "markdown",
   "id": "c76d5581-11fc-45c4-a6a8-4d862e5a49a3",
   "metadata": {},
   "source": [
    "## 3. Indexing in 3D Arrays"
   ]
  },
  {
   "cell_type": "code",
   "execution_count": 20,
   "id": "1b31e825-b1b8-49ee-920e-3f6eba37b964",
   "metadata": {},
   "outputs": [],
   "source": [
    "arr3D = np.array([\n",
    "    [[1, 2, 3], [4, 5, 6]],\n",
    "    [[7, 8, 9], [10, 11, 12]]\n",
    "    ])"
   ]
  },
  {
   "cell_type": "code",
   "execution_count": 21,
   "id": "725a14a2-0de8-4d85-8df0-2ff6aa289299",
   "metadata": {},
   "outputs": [
    {
     "name": "stdout",
     "output_type": "stream",
     "text": [
      "(2, 2, 3)\n"
     ]
    }
   ],
   "source": [
    "print(arr3D.shape)"
   ]
  },
  {
   "cell_type": "code",
   "execution_count": 24,
   "id": "d99435fe-ed07-47f1-a102-2675d4b688d5",
   "metadata": {},
   "outputs": [
    {
     "name": "stdout",
     "output_type": "stream",
     "text": [
      "6\n",
      "[[1 2 3]\n",
      " [7 8 9]]\n"
     ]
    }
   ],
   "source": [
    "#accessing elements in 3D array\n",
    "print(arr3D[0,1,2])\n",
    "print(arr3D[:, 0, :])   # Get the first row from both sheets"
   ]
  },
  {
   "cell_type": "code",
   "execution_count": 26,
   "id": "4a5ca406-bf83-4766-a6ec-1cddac4a41fc",
   "metadata": {},
   "outputs": [
    {
     "name": "stdout",
     "output_type": "stream",
     "text": [
      "[1 4 7]\n"
     ]
    }
   ],
   "source": [
    "print(arr[:,0])   # Get all rows of the first column"
   ]
  },
  {
   "cell_type": "code",
   "execution_count": 29,
   "id": "2c56a63a-0072-4988-adbf-5f877864ecfc",
   "metadata": {},
   "outputs": [
    {
     "name": "stdout",
     "output_type": "stream",
     "text": [
      "[[1 2 3]\n",
      " [7 8 9]]\n"
     ]
    }
   ],
   "source": [
    "print(arr3D[:,0,:])   # Get the first row from each \"sheet\" in a 3D array"
   ]
  },
  {
   "cell_type": "code",
   "execution_count": 31,
   "id": "72673b22-7fad-4fb3-99d4-b1773aa65662",
   "metadata": {},
   "outputs": [
    {
     "name": "stdout",
     "output_type": "stream",
     "text": [
      "[[1 0 3]\n",
      " [4 0 6]\n",
      " [7 0 9]]\n"
     ]
    }
   ],
   "source": [
    "arr[:, 1] = 0     #replacing all elements in column 1 by 0\n",
    "print(arr)"
   ]
  }
 ],
 "metadata": {
  "kernelspec": {
   "display_name": "Python 3 (ipykernel)",
   "language": "python",
   "name": "python3"
  },
  "language_info": {
   "codemirror_mode": {
    "name": "ipython",
    "version": 3
   },
   "file_extension": ".py",
   "mimetype": "text/x-python",
   "name": "python",
   "nbconvert_exporter": "python",
   "pygments_lexer": "ipython3",
   "version": "3.12.7"
  }
 },
 "nbformat": 4,
 "nbformat_minor": 5
}
