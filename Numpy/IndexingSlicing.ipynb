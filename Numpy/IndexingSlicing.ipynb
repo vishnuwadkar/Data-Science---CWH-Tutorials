{
 "cells": [
  {
   "cell_type": "code",
   "execution_count": 1,
   "id": "16ee25f5-1732-4840-8bd1-cee019d1fafa",
   "metadata": {},
   "outputs": [],
   "source": [
    "import numpy as np"
   ]
  },
  {
   "cell_type": "markdown",
   "id": "76ac4ab3-f153-4e20-9356-840cfb402bdb",
   "metadata": {},
   "source": [
    "## Create a 3×3 array filled with random numbers and print its shape."
   ]
  },
  {
   "cell_type": "code",
   "execution_count": 17,
   "id": "c3bee672-be49-4cb2-8d32-e3033008336d",
   "metadata": {},
   "outputs": [
    {
     "name": "stdout",
     "output_type": "stream",
     "text": [
      "[[1 2 3]\n",
      " [4 5 6]\n",
      " [7 8 9]]\n"
     ]
    },
    {
     "data": {
      "text/plain": [
       "(3, 3)"
      ]
     },
     "execution_count": 17,
     "metadata": {},
     "output_type": "execute_result"
    }
   ],
   "source": [
    "arr = np.array([[1,2,3],[4,5,6],[7,8,9]])\n",
    "print(arr)\n",
    "arr.shape"
   ]
  },
  {
   "cell_type": "markdown",
   "id": "fed79a9c-e2d2-4c6b-8f90-64fc39a5c328",
   "metadata": {},
   "source": [
    "## Convert an array of floats [1.1, 2.2, 3.3] into integers."
   ]
  },
  {
   "cell_type": "code",
   "execution_count": 9,
   "id": "76c8b177-84d4-4312-bed5-e74471cc98e4",
   "metadata": {},
   "outputs": [
    {
     "name": "stdout",
     "output_type": "stream",
     "text": [
      "<class 'numpy.int32'>\n"
     ]
    }
   ],
   "source": [
    "arr = np.array([1.1, 2.2, 3.3],dtype = int)\n",
    "print(type(arr[0]))"
   ]
  },
  {
   "cell_type": "markdown",
   "id": "bfc7a0e3-bf2f-47b6-aeab-8eb073504ec5",
   "metadata": {},
   "source": [
    "## Use fancy indexing to extract even numbers from [1, 2, 3, 4, 5, 6]."
   ]
  },
  {
   "cell_type": "code",
   "execution_count": 14,
   "id": "093b2c11-a709-49b9-9b68-4020a610c22d",
   "metadata": {},
   "outputs": [
    {
     "name": "stdout",
     "output_type": "stream",
     "text": [
      "[2 4 6]\n"
     ]
    }
   ],
   "source": [
    "arr = np.array([1, 2, 3, 4, 5, 6])\n",
    "print(arr[arr%2==0])"
   ]
  },
  {
   "cell_type": "markdown",
   "id": "95ca119c-202d-46f9-b24c-ea970618b3b5",
   "metadata": {},
   "source": [
    "## Reshape a 1D array of size 9 into a 3×3 matrix."
   ]
  },
  {
   "cell_type": "code",
   "execution_count": 18,
   "id": "b6e46024-8e4d-4b3f-879d-132e14b738fc",
   "metadata": {},
   "outputs": [
    {
     "data": {
      "text/plain": [
       "array([[1, 2, 3],\n",
       "       [4, 5, 6],\n",
       "       [7, 8, 9]])"
      ]
     },
     "execution_count": 18,
     "metadata": {},
     "output_type": "execute_result"
    }
   ],
   "source": [
    "arr = np.array([1,2,3,4,5,6,7,8,9])\n",
    "arr.reshape(3,3)"
   ]
  },
  {
   "cell_type": "markdown",
   "id": "5026f953-856a-48b1-bc63-5558d4b40e0c",
   "metadata": {},
   "source": [
    "## Use boolean masking to filter numbers greater than 50 in an array."
   ]
  },
  {
   "cell_type": "code",
   "execution_count": 20,
   "id": "3ec1424c-889c-4d3a-8b1f-69dfc565464f",
   "metadata": {},
   "outputs": [
    {
     "data": {
      "text/plain": [
       "array([ 78,  92,  69,  65, 101,  64,  87,  79])"
      ]
     },
     "execution_count": 20,
     "metadata": {},
     "output_type": "execute_result"
    }
   ],
   "source": [
    "arr = np.array([1,78,92,23,1,49,69,22,65,50,4,32,13,5,101,64,87,44,79])\n",
    "arr[arr>50]"
   ]
  },
  {
   "cell_type": "code",
   "execution_count": null,
   "id": "bcb990c9-a83e-4b8d-a9cd-44ef0720c192",
   "metadata": {},
   "outputs": [],
   "source": []
  }
 ],
 "metadata": {
  "kernelspec": {
   "display_name": "Python 3 (ipykernel)",
   "language": "python",
   "name": "python3"
  },
  "language_info": {
   "codemirror_mode": {
    "name": "ipython",
    "version": 3
   },
   "file_extension": ".py",
   "mimetype": "text/x-python",
   "name": "python",
   "nbconvert_exporter": "python",
   "pygments_lexer": "ipython3",
   "version": "3.12.7"
  }
 },
 "nbformat": 4,
 "nbformat_minor": 5
}
