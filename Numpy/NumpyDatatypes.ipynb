{
 "cells": [
  {
   "cell_type": "markdown",
   "id": "26e667ee-5ded-4cff-82b5-4fc696772ee7",
   "metadata": {},
   "source": [
    "# DATATYPES IN NUMPY"
   ]
  },
  {
   "cell_type": "markdown",
   "id": "b4dcb726-cadd-4e43-a321-bd2de606951c",
   "metadata": {},
   "source": [
    "### You can check the dtype of a NumPy array using the .dtype attribute."
   ]
  },
  {
   "cell_type": "code",
   "execution_count": 1,
   "id": "687136b2-c2e8-4af3-8192-3831f5a6c0c5",
   "metadata": {},
   "outputs": [],
   "source": [
    "import numpy as np"
   ]
  },
  {
   "cell_type": "code",
   "execution_count": 3,
   "id": "29f1461d-f225-40b5-80ad-0d02052ce9d7",
   "metadata": {},
   "outputs": [
    {
     "name": "stdout",
     "output_type": "stream",
     "text": [
      "int32\n"
     ]
    }
   ],
   "source": [
    "arr = np.array([1,2,3,4,5])\n",
    "print(arr.dtype)"
   ]
  },
  {
   "cell_type": "markdown",
   "id": "5a7e0e3c-5a59-4eeb-8da7-d987061a6511",
   "metadata": {},
   "source": [
    "### You can cast (convert) the data type of an array using the .astype() method."
   ]
  },
  {
   "cell_type": "code",
   "execution_count": 4,
   "id": "3cfb75d7-6b17-428f-84e4-bcfd70cc3a91",
   "metadata": {},
   "outputs": [
    {
     "name": "stdout",
     "output_type": "stream",
     "text": [
      "float64\n"
     ]
    }
   ],
   "source": [
    "myArr = np.array([1.34,2.34,7.89,4.55])\n",
    "print(myArr.dtype)"
   ]
  },
  {
   "cell_type": "code",
   "execution_count": 7,
   "id": "edf943ba-0c6f-46c0-8fdf-755add9b3f0d",
   "metadata": {},
   "outputs": [
    {
     "name": "stdout",
     "output_type": "stream",
     "text": [
      "int32\n",
      "[1 2 7 4]\n"
     ]
    }
   ],
   "source": [
    "arrInt = myArr.astype(np.int32)\n",
    "print(arrInt.dtype)\n",
    "print(arrInt)"
   ]
  },
  {
   "cell_type": "markdown",
   "id": "eed4883b-f7bb-48e3-bf58-41d393bdc461",
   "metadata": {},
   "source": [
    "### We can use appropriate datatypes to save memory"
   ]
  },
  {
   "cell_type": "code",
   "execution_count": 8,
   "id": "18fb09e3-3f2e-481a-b055-9be6d1a698eb",
   "metadata": {},
   "outputs": [
    {
     "name": "stdout",
     "output_type": "stream",
     "text": [
      "24\n",
      "12\n"
     ]
    }
   ],
   "source": [
    "arr_int64 = np.array([1, 2, 3], dtype=np.int64)\n",
    "arr_int32 = np.array([1, 2, 3], dtype=np.int32)\n",
    "\n",
    "print(arr_int64.nbytes)  # Output: 24 bytes (3 elements * 8 bytes each)\n",
    "print(arr_int32.nbytes)  # Output: 12 bytes (3 elements * 4 bytes each)"
   ]
  },
  {
   "cell_type": "markdown",
   "id": "78548b44-3f81-4ada-ba88-6f628a5e9f6f",
   "metadata": {},
   "source": [
    "### String with numpy"
   ]
  },
  {
   "cell_type": "code",
   "execution_count": 9,
   "id": "a43ba015-d58e-42f3-b4e2-20866d53433f",
   "metadata": {},
   "outputs": [
    {
     "name": "stdout",
     "output_type": "stream",
     "text": [
      "['apple' 'banana' 'cherry']\n"
     ]
    }
   ],
   "source": [
    "arr = np.array(['apple', 'banana', 'cherry'], dtype='U10')  # Unicode string array\n",
    "print(arr)"
   ]
  },
  {
   "cell_type": "markdown",
   "id": "4e649130-8d25-40ce-b5a5-f98e7d0448bb",
   "metadata": {},
   "source": [
    "### Complex datatype in Numpy"
   ]
  },
  {
   "cell_type": "code",
   "execution_count": 10,
   "id": "2828ab1a-672a-4658-b9d7-e2e1e135cd24",
   "metadata": {},
   "outputs": [
    {
     "name": "stdout",
     "output_type": "stream",
     "text": [
      "[1.+2.j 3.+4.j 5.+6.j]\n"
     ]
    }
   ],
   "source": [
    "arr = np.array([1 + 2j, 3 + 4j, 5 + 6j], dtype='complex128')\n",
    "print(arr)"
   ]
  },
  {
   "cell_type": "markdown",
   "id": "16468054-9ab4-4510-ad01-565bc2f90d73",
   "metadata": {},
   "source": [
    "### Object Datatype in Numpy"
   ]
  },
  {
   "cell_type": "code",
   "execution_count": 11,
   "id": "450e31c9-d159-4910-af50-e95802ce269e",
   "metadata": {},
   "outputs": [
    {
     "name": "stdout",
     "output_type": "stream",
     "text": [
      "[{'a': 1} list([1, 2, 3]) 'hello']\n"
     ]
    }
   ],
   "source": [
    "arr = np.array([{'a': 1}, [1, 2, 3], 'hello'], dtype=object)\n",
    "print(arr)"
   ]
  },
  {
   "cell_type": "code",
   "execution_count": null,
   "id": "0f4a8c50-50fb-48be-801c-af66e800381d",
   "metadata": {},
   "outputs": [],
   "source": []
  }
 ],
 "metadata": {
  "kernelspec": {
   "display_name": "Python 3 (ipykernel)",
   "language": "python",
   "name": "python3"
  },
  "language_info": {
   "codemirror_mode": {
    "name": "ipython",
    "version": 3
   },
   "file_extension": ".py",
   "mimetype": "text/x-python",
   "name": "python",
   "nbconvert_exporter": "python",
   "pygments_lexer": "ipython3",
   "version": "3.12.7"
  }
 },
 "nbformat": 4,
 "nbformat_minor": 5
}
