{
 "cells": [
  {
   "cell_type": "code",
   "execution_count": 2,
   "id": "5a57ee61-32ce-489b-b1b9-62f03b172384",
   "metadata": {},
   "outputs": [],
   "source": [
    "from bs4 import BeautifulSoup\n",
    "import requests"
   ]
  },
  {
   "cell_type": "code",
   "execution_count": 9,
   "id": "b3d2ac27-bfaa-4223-bf48-5ee3307ddd73",
   "metadata": {},
   "outputs": [],
   "source": [
    "# a = requests.get(\"https://books.toscrape.com/\")\n",
    "# print(a.text)"
   ]
  },
  {
   "cell_type": "code",
   "execution_count": 13,
   "id": "6ea4f6d0-adba-4f8f-a3b0-2370dc46d35c",
   "metadata": {},
   "outputs": [
    {
     "name": "stdout",
     "output_type": "stream",
     "text": [
      "Downloaded Page 1\n",
      "Downloaded Page 2\n",
      "Downloaded Page 3\n",
      "Downloaded Page 4\n",
      "Downloaded Page 5\n",
      "Downloaded Page 6\n",
      "Downloaded Page 7\n",
      "Downloaded Page 8\n",
      "Downloaded Page 9\n",
      "Downloaded Page 10\n",
      "Downloaded Page 11\n",
      "Downloaded Page 12\n",
      "Downloaded Page 13\n",
      "Downloaded Page 14\n",
      "Downloaded Page 15\n",
      "Downloaded Page 16\n",
      "Downloaded Page 17\n",
      "Downloaded Page 18\n",
      "Downloaded Page 19\n",
      "Downloaded Page 20\n",
      "Downloaded Page 21\n",
      "Downloaded Page 22\n",
      "Downloaded Page 23\n",
      "Downloaded Page 24\n",
      "Downloaded Page 25\n",
      "Downloaded Page 26\n",
      "Downloaded Page 27\n",
      "Downloaded Page 28\n",
      "Downloaded Page 29\n",
      "Downloaded Page 30\n",
      "Downloaded Page 31\n",
      "Downloaded Page 32\n",
      "Downloaded Page 33\n",
      "Downloaded Page 34\n",
      "Downloaded Page 35\n",
      "Downloaded Page 36\n",
      "Downloaded Page 37\n",
      "Downloaded Page 38\n",
      "Downloaded Page 39\n",
      "Downloaded Page 40\n",
      "Downloaded Page 41\n",
      "Downloaded Page 42\n",
      "Downloaded Page 43\n",
      "Downloaded Page 44\n",
      "Downloaded Page 45\n",
      "Downloaded Page 46\n",
      "Downloaded Page 47\n",
      "Downloaded Page 48\n",
      "Downloaded Page 49\n",
      "Downloaded Page 50\n"
     ]
    }
   ],
   "source": [
    "for i in range(1,51):\n",
    "    a = requests.get(f\"https://books.toscrape.com/catalogue/page-{i}.html\")\n",
    "    with open(f\"htmls/page{i}.html\",\"w\",encoding=\"utf-8\") as f:\n",
    "        f.write(a.text)  \n",
    "    print(f\"Downloaded Page {i}\")"
   ]
  },
  {
   "cell_type": "code",
   "execution_count": null,
   "id": "dfba9867-f7b2-41cb-a435-2272f9b92200",
   "metadata": {},
   "outputs": [],
   "source": []
  }
 ],
 "metadata": {
  "kernelspec": {
   "display_name": "Python 3 (ipykernel)",
   "language": "python",
   "name": "python3"
  },
  "language_info": {
   "codemirror_mode": {
    "name": "ipython",
    "version": 3
   },
   "file_extension": ".py",
   "mimetype": "text/x-python",
   "name": "python",
   "nbconvert_exporter": "python",
   "pygments_lexer": "ipython3",
   "version": "3.12.7"
  }
 },
 "nbformat": 4,
 "nbformat_minor": 5
}
