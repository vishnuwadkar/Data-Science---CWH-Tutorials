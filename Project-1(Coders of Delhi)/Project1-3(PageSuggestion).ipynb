{
 "cells": [
  {
   "cell_type": "code",
   "execution_count": 3,
   "id": "eedb654e-9603-41b0-b1e2-c8230183aae6",
   "metadata": {},
   "outputs": [],
   "source": [
    "import json"
   ]
  },
  {
   "cell_type": "code",
   "execution_count": 4,
   "id": "413c70ca-fb41-4e26-983d-b66f8b8f7059",
   "metadata": {},
   "outputs": [],
   "source": [
    "def load_data(filename):\n",
    "    with open(filename,\"r\") as data:\n",
    "        return json.load(data)"
   ]
  },
  {
   "cell_type": "code",
   "execution_count": 16,
   "id": "0dec9969-d788-444f-b339-04a00c9c254a",
   "metadata": {},
   "outputs": [],
   "source": [
    "def find_suggested_pages(user_id, data):\n",
    "    #make a dictionary of user's interaction\n",
    "    user_pages = {}\n",
    "    for user in data['users']:\n",
    "        user_pages[user['id']] = set(user['liked_pages'])\n",
    "\n",
    "    #if the user is not found\n",
    "    if user_id not in user_pages:\n",
    "        return []\n",
    "\n",
    "    user_liked_pages = user_pages[user_id]\n",
    "    page_suggestion = {}\n",
    "\n",
    "    for other_user, pages in user_pages.items():\n",
    "        if other_user != user_id:\n",
    "            shared_pages = user_liked_pages.intersection(pages)\n",
    "        for page in pages:\n",
    "            if page not in user_liked_pages:\n",
    "                page_suggestion[page] = page_suggestion.get(page,0) + len(shared_pages)\n",
    "\n",
    "    sorted_pages = sorted(page_suggestion.items(), key = lambda x:[x], reverse = True)\n",
    "    return [(page_id, score) for page_id, score in sorted_pages]\n",
    "                 \n",
    "    \n",
    "    "
   ]
  },
  {
   "cell_type": "code",
   "execution_count": 17,
   "id": "8d55656a-0906-46a5-8229-abaebfa4e8cd",
   "metadata": {},
   "outputs": [
    {
     "name": "stdout",
     "output_type": "stream",
     "text": [
      "[(127, 0), (126, 0), (125, 0), (124, 0), (123, 0), (122, 0), (121, 0), (120, 0), (119, 0), (118, 0), (117, 0), (116, 0), (115, 0), (114, 0), (113, 0), (112, 0), (111, 0), (110, 0), (109, 0), (108, 0), (107, 1), (106, 0), (105, 1), (104, 0), (103, 2)]\n"
     ]
    }
   ],
   "source": [
    "data = load_data(\"massive_data.json\")\n",
    "user_id = 1\n",
    "page_recc = find_suggested_pages(user_id, data)\n",
    "print(page_recc)"
   ]
  },
  {
   "cell_type": "code",
   "execution_count": null,
   "id": "798af195-9507-423c-8bb9-7dff222dc937",
   "metadata": {},
   "outputs": [],
   "source": []
  }
 ],
 "metadata": {
  "kernelspec": {
   "display_name": "Python 3 (ipykernel)",
   "language": "python",
   "name": "python3"
  },
  "language_info": {
   "codemirror_mode": {
    "name": "ipython",
    "version": 3
   },
   "file_extension": ".py",
   "mimetype": "text/x-python",
   "name": "python",
   "nbconvert_exporter": "python",
   "pygments_lexer": "ipython3",
   "version": "3.12.7"
  }
 },
 "nbformat": 4,
 "nbformat_minor": 5
}
