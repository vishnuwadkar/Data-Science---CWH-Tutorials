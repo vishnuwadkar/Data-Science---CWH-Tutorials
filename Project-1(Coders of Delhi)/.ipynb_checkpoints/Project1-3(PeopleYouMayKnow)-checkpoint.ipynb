{
 "cells": [
  {
   "cell_type": "code",
   "execution_count": 2,
   "id": "a13a4457-3bb5-4f48-9966-e89173dfc033",
   "metadata": {},
   "outputs": [],
   "source": [
    "import json"
   ]
  },
  {
   "cell_type": "code",
   "execution_count": 3,
   "id": "f5f69ded-1925-4899-a341-13d26f2cf387",
   "metadata": {},
   "outputs": [],
   "source": [
    "def load_data(filename):\n",
    "    with open(filename,\"r\") as file:\n",
    "        return json.load(file)"
   ]
  },
  {
   "cell_type": "code",
   "execution_count": 36,
   "id": "8b235b1b-dbbf-4ebb-871e-c0f55488d70d",
   "metadata": {},
   "outputs": [],
   "source": [
    "def ppl_you_may_know(user_name,data):\n",
    "    name_to_id = {}  #dict for finding users id from name\n",
    "    id_to_name = {}  #dict for finding users name from id\n",
    "    user_friends = {}  #dict for storing each users friends by id\n",
    "\n",
    "    #saving the mappings in all dictionaries\n",
    "    for user in data[\"users\"]:\n",
    "        user_id = user[\"id\"]\n",
    "        name = user[\"name\"]\n",
    "        friends = set(user[\"friends\"])\n",
    "\n",
    "        name_to_id[name] = user_id\n",
    "        id_to_name[user_id] = name\n",
    "        user_friends[user_id] = friends \n",
    "\n",
    "    #checking if the entered name exists in the dictionary\n",
    "    if user_name not in name_to_id:\n",
    "        return []\n",
    "\n",
    "    #getting user id and their friends using the previous dictionaries\n",
    "    user_id = name_to_id[user_name]\n",
    "    direct_friends = user_friends[user_id]  #returns a list of ids of friends\n",
    "\n",
    "    #couting the mutual friends\n",
    "    suggestions = {}\n",
    "    for friend in direct_friends:\n",
    "        #for all friends of friends:\n",
    "        for mutual in user_friends[friend]:\n",
    "            if mutual != user_id and mutual not in direct_friends:\n",
    "            #if friend of friend is not the user himself and is not the user's direct friend\n",
    "                suggestions[mutual] = suggestions.get(mutual, 0) + 1  #make his mutual count 1\n",
    "\n",
    "    #sorting suggestions based on number of mutuals\n",
    "    sorted_suggestions = sorted(suggestions.items(), key = lambda x:x[1], reverse = True)[:5] #top 5 friends\n",
    "\n",
    "    #returning the names instead of ids\n",
    "    return [id_to_name[user_id] for user_id,_ in sorted_suggestions]      "
   ]
  },
  {
   "cell_type": "code",
   "execution_count": 37,
   "id": "31e6002a-2276-4e36-a3e6-f60c4b9dcf58",
   "metadata": {},
   "outputs": [
    {
     "name": "stdin",
     "output_type": "stream",
     "text": [
      "Enter the User's Name, you want suggestions for:  Dev\n"
     ]
    },
    {
     "name": "stdout",
     "output_type": "stream",
     "text": [
      "Top 5 people 'you may know' for Dev are:\n",
      "['Simran', 'Gautam', 'Tanya', 'Varun', 'Pooja']\n"
     ]
    }
   ],
   "source": [
    "data = load_data(\"massive_data.json\")\n",
    "user_name = input(\"Enter the User's Name, you want suggestions for: \")\n",
    "recc = ppl_you_may_know(user_name, data)\n",
    "print(f\"Top 5 people 'you may know' for {user_name} are:\\n{recc}\")"
   ]
  },
  {
   "cell_type": "code",
   "execution_count": null,
   "id": "5bf58a7a-ec68-4ef9-a33b-4cc484cfafe5",
   "metadata": {},
   "outputs": [],
   "source": []
  }
 ],
 "metadata": {
  "kernelspec": {
   "display_name": "Python 3 (ipykernel)",
   "language": "python",
   "name": "python3"
  },
  "language_info": {
   "codemirror_mode": {
    "name": "ipython",
    "version": 3
   },
   "file_extension": ".py",
   "mimetype": "text/x-python",
   "name": "python",
   "nbconvert_exporter": "python",
   "pygments_lexer": "ipython3",
   "version": "3.12.7"
  }
 },
 "nbformat": 4,
 "nbformat_minor": 5
}
