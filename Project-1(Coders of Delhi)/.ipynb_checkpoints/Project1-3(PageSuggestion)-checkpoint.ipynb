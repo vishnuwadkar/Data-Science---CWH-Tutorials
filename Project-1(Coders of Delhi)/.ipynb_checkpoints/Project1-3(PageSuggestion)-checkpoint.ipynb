{
 "cells": [
  {
   "cell_type": "code",
   "execution_count": 3,
   "id": "eedb654e-9603-41b0-b1e2-c8230183aae6",
   "metadata": {},
   "outputs": [],
   "source": [
    "import json"
   ]
  },
  {
   "cell_type": "code",
   "execution_count": 4,
   "id": "413c70ca-fb41-4e26-983d-b66f8b8f7059",
   "metadata": {},
   "outputs": [],
   "source": [
    "def load_data(filename):\n",
    "    with open(filename,\"r\") as data:\n",
    "        return json.load(data)"
   ]
  },
  {
   "cell_type": "code",
   "execution_count": 7,
   "id": "0dec9969-d788-444f-b339-04a00c9c254a",
   "metadata": {},
   "outputs": [],
   "source": [
    "def find_suggested_pages(user_id, data):\n",
    "    #make a dictionary of user's interaction\n",
    "    user_pages = {}\n",
    "    for user in data['users']:\n",
    "        user_pages[user['id']] = set(user['liked_pages'])\n",
    "\n",
    "    #if the user is not found\n",
    "    if user_id not in user_pages:\n",
    "        return []\n",
    "\n",
    "    user_liked_pages = user_pages[user_id]\n",
    "    page_suggestions = {}\n",
    "\n",
    "    for other_user, pages in user_pages.items():\n",
    "        if other_user != user_id:\n",
    "            shared_pages = user_liked_pages.intersection(pages)\n",
    "        for page in pages:\n",
    "            if page not in user_pages:\n",
    "                pages_suggestion[page] = page_suggestions.get('page',0) + len(shared+pages)\n",
    "\n",
    "    sorted_pages = sorted(page_suggestion.items(), key = lambda x:[x], reverse = True)\n",
    "    return [(page_id, score) for page_id, score in sorted_pages]\n",
    "                 \n",
    "    \n",
    "    "
   ]
  },
  {
   "cell_type": "code",
   "execution_count": 8,
   "id": "8d55656a-0906-46a5-8229-abaebfa4e8cd",
   "metadata": {},
   "outputs": [
    {
     "ename": "NameError",
     "evalue": "name 'massive_data' is not defined",
     "output_type": "error",
     "traceback": [
      "\u001b[1;31m---------------------------------------------------------------------------\u001b[0m",
      "\u001b[1;31mNameError\u001b[0m                                 Traceback (most recent call last)",
      "Cell \u001b[1;32mIn[8], line 1\u001b[0m\n\u001b[1;32m----> 1\u001b[0m data \u001b[38;5;241m=\u001b[39m load_data(massive_data\u001b[38;5;241m.\u001b[39mjson)\n\u001b[0;32m      2\u001b[0m user_id \u001b[38;5;241m=\u001b[39m \u001b[38;5;241m1\u001b[39m\n\u001b[0;32m      3\u001b[0m page_recc \u001b[38;5;241m=\u001b[39m find_suggested_pages(user_id, data)\n",
      "\u001b[1;31mNameError\u001b[0m: name 'massive_data' is not defined"
     ]
    }
   ],
   "source": [
    "data = load_data(massive_data.json)\n",
    "user_id = 1\n",
    "page_recc = find_suggested_pages(user_id, data)\n",
    "print(page_recc)"
   ]
  },
  {
   "cell_type": "code",
   "execution_count": null,
   "id": "798af195-9507-423c-8bb9-7dff222dc937",
   "metadata": {},
   "outputs": [],
   "source": []
  }
 ],
 "metadata": {
  "kernelspec": {
   "display_name": "Python 3 (ipykernel)",
   "language": "python",
   "name": "python3"
  },
  "language_info": {
   "codemirror_mode": {
    "name": "ipython",
    "version": 3
   },
   "file_extension": ".py",
   "mimetype": "text/x-python",
   "name": "python",
   "nbconvert_exporter": "python",
   "pygments_lexer": "ipython3",
   "version": "3.12.7"
  }
 },
 "nbformat": 4,
 "nbformat_minor": 5
}
