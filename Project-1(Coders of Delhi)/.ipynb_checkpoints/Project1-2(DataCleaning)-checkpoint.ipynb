{
 "cells": [
  {
   "cell_type": "code",
   "execution_count": 1,
   "id": "ce37b309-b5b8-4df1-a17c-f189e81d0097",
   "metadata": {},
   "outputs": [],
   "source": [
    "import json"
   ]
  },
  {
   "cell_type": "code",
   "execution_count": 25,
   "id": "70b4d550-d264-4b9a-ac26-20ed0618f09d",
   "metadata": {},
   "outputs": [],
   "source": [
    "def clean_data(data):\n",
    "    #remove users with missing names\n",
    "    data['users'] = [user for user in data['users'] if user['name'].strip()]  \n",
    "\n",
    "    #removing duplicate friend entries\n",
    "    for user in data['users']:\n",
    "        user['friends'] = list(set(user['friends']))\n",
    "\n",
    "    #remove inactive users\n",
    "    data['users'] = [user for user in data['users'] if user['friends'] or user['liked_pages']]\n",
    "\n",
    "    #removing duplicate pages\n",
    "    unique_pages = {}  #empty dictionary\n",
    "    for page in data['pages']:\n",
    "        unique_pages[page['id']] = page\n",
    "        data[\"pages\"]=list(unique_pages)   \n",
    "    \n",
    "    return data"
   ]
  },
  {
   "cell_type": "code",
   "execution_count": 28,
   "id": "6a2cdb21-9907-4bcc-badb-a5b0f1ac27da",
   "metadata": {},
   "outputs": [
    {
     "name": "stdout",
     "output_type": "stream",
     "text": [
      "{'users': [{'id': 1, 'name': 'Amit', 'friends': [2, 3], 'liked_pages': [101]}, {'id': 2, 'name': 'Priya', 'friends': [1, 4], 'liked_pages': [102]}, {'id': 4, 'name': 'Sara', 'friends': [2], 'liked_pages': [104]}], 'pages': [101, 102, 103, 104]}\n",
      "\n",
      "The data was cleaned succesfully!\n"
     ]
    }
   ],
   "source": [
    "data = json.load(open(\"data2.json\"))\n",
    "data = clean_data(data)\n",
    "json.dump(data, open(\"CleanedData.json\",\"w\"),indent = 4)\n",
    "print(data)\n",
    "print(\"\\nThe data was cleaned succesfully!\")"
   ]
  },
  {
   "cell_type": "code",
   "execution_count": null,
   "id": "285cb22d-ff6d-490a-b896-305ce19b7a3f",
   "metadata": {},
   "outputs": [],
   "source": []
  }
 ],
 "metadata": {
  "kernelspec": {
   "display_name": "Python 3 (ipykernel)",
   "language": "python",
   "name": "python3"
  },
  "language_info": {
   "codemirror_mode": {
    "name": "ipython",
    "version": 3
   },
   "file_extension": ".py",
   "mimetype": "text/x-python",
   "name": "python",
   "nbconvert_exporter": "python",
   "pygments_lexer": "ipython3",
   "version": "3.12.7"
  }
 },
 "nbformat": 4,
 "nbformat_minor": 5
}
