{
 "cells": [
  {
   "cell_type": "markdown",
   "id": "78aac651-14d0-433e-9621-05728669f6f0",
   "metadata": {},
   "source": [
    "## Numpy vs Python lists - time comparison"
   ]
  },
  {
   "cell_type": "code",
   "execution_count": 2,
   "id": "6667a9b3-b44e-4b84-a481-d148df50652a",
   "metadata": {},
   "outputs": [],
   "source": [
    "import numpy as np\n",
    "import time"
   ]
  },
  {
   "cell_type": "code",
   "execution_count": 3,
   "id": "bc58d397-58da-42ef-b85a-7ce8d6ddb645",
   "metadata": {},
   "outputs": [
    {
     "name": "stdout",
     "output_type": "stream",
     "text": [
      "Python list addn time:  0.0\n"
     ]
    }
   ],
   "source": [
    "size = 100\n",
    "list1 = list(range(size))\n",
    "list2 = list(range(size))\n",
    "\n",
    "start = time.time()\n",
    "result = [x+y for x,y in zip(list1,list2)]\n",
    "end = time.time()\n",
    "print(\"Python list addn time: \", end - start)\n",
    "        "
   ]
  },
  {
   "cell_type": "markdown",
   "id": "75d0f066-4e39-449b-94d9-2b69f080c92d",
   "metadata": {},
   "source": [
    "arr1 = np.array(list1)\n",
    "arr2 = np.array(list2)\n",
    "start = time.time()\n",
    "result = arr1+arr2\n",
    "end = time.time()\n",
    "print(\"Numpy array time: \", end - start)"
   ]
  },
  {
   "cell_type": "markdown",
   "id": "44ec3531-c908-4c90-8dbb-573074ccd51b",
   "metadata": {},
   "source": [
    "### Thus, we can see that numpy takes significantly lesser time compared to Python list"
   ]
  },
  {
   "cell_type": "markdown",
   "id": "f16be269-6da4-4701-8c79-0d3357402e07",
   "metadata": {},
   "source": [
    "## Creating Numpy Arrays"
   ]
  },
  {
   "cell_type": "code",
   "execution_count": 4,
   "id": "82c485dd-3e29-4bc7-9c65-0fac92e82942",
   "metadata": {},
   "outputs": [
    {
     "name": "stdout",
     "output_type": "stream",
     "text": [
      "[1 2 3 4]\n"
     ]
    }
   ],
   "source": [
    "#1D Numpy array\n",
    "arr1 = np.array([1,2,3,4])\n",
    "print(arr1)   #prints a numpy array"
   ]
  },
  {
   "cell_type": "code",
   "execution_count": 5,
   "id": "50767595-1183-4fef-b7d1-5118a674c9a9",
   "metadata": {},
   "outputs": [
    {
     "name": "stdout",
     "output_type": "stream",
     "text": [
      "[[1 2 3]\n",
      " [5 6 8]\n",
      " [9 3 1]]\n"
     ]
    }
   ],
   "source": [
    "#2D Nupy Array\n",
    "arr2 = np.array([[1,2,3],[5,6,8],[9,3,1]])\n",
    "print(arr2)"
   ]
  },
  {
   "cell_type": "code",
   "execution_count": 6,
   "id": "f865c1f5-f4a6-4242-9eca-c79d8be49102",
   "metadata": {},
   "outputs": [],
   "source": [
    "#for multidimensional array, the size of nested loops should be same, o/w produces an error"
   ]
  },
  {
   "cell_type": "code",
   "execution_count": 7,
   "id": "83537b0a-e065-423b-8d89-3898314b1bc0",
   "metadata": {},
   "outputs": [
    {
     "name": "stdout",
     "output_type": "stream",
     "text": [
      "Type:  <class 'numpy.ndarray'>\n",
      "Shape:  (3, 3)\n"
     ]
    }
   ],
   "source": [
    "#checking type and size\n",
    "print(\"Type: \", type(arr1))\n",
    "print(\"Shape: \", arr2.shape)"
   ]
  },
  {
   "cell_type": "markdown",
   "id": "804d62f8-076b-4127-854e-16520fa3a79f",
   "metadata": {},
   "source": [
    "## Memory Efficiency: Numpy vs Lists"
   ]
  },
  {
   "cell_type": "code",
   "execution_count": 8,
   "id": "8a1fdabb-ab9f-4245-8c6e-7f6313eb773d",
   "metadata": {},
   "outputs": [
    {
     "name": "stdout",
     "output_type": "stream",
     "text": [
      "Python list size:  800560000 bytes\n",
      "Numpy list size:  40000 bytes\n"
     ]
    }
   ],
   "source": [
    "list_data = list(range(10000))\n",
    "numpy_data = np.array(list_data)\n",
    "\n",
    "print(\"Python list size: \", sys.getsizeof(list_data) * len(list_data), \"bytes\")\n",
    "print(\"Numpy list size: \", numpy_data.nbytes, \"bytes\")"
   ]
  },
  {
   "cell_type": "markdown",
   "id": "686e7219-c6bc-48c5-8e78-6681feb49836",
   "metadata": {},
   "source": [
    "## Vectorization - No Loops Reqd!"
   ]
  },
  {
   "cell_type": "code",
   "execution_count": 9,
   "id": "c84beb7f-53d6-4b79-853c-ec0bdfd2ed94",
   "metadata": {},
   "outputs": [],
   "source": [
    "list_squares = [x ** 2 for x in list1]  #Python list which is loop based\n",
    "numpy_squares = arr1 ** 1   #Faster - vectorized method"
   ]
  },
  {
   "cell_type": "markdown",
   "id": "04e6e318-fa9e-4b2a-a9d6-3341977ec933",
   "metadata": {},
   "source": [
    "## Exercises"
   ]
  },
  {
   "cell_type": "markdown",
   "id": "157fda06-4a08-4502-87f1-5618e9583880",
   "metadata": {},
   "source": [
    "### Create a NumPy array with values from 10 to 100 and print its shape."
   ]
  },
  {
   "cell_type": "code",
   "execution_count": 10,
   "id": "7835040f-85b9-4c5f-95c8-7b7df5ca16f4",
   "metadata": {},
   "outputs": [
    {
     "name": "stdout",
     "output_type": "stream",
     "text": [
      "[  0   1   2   3   4   5   6   7   8   9  10  11  12  13  14  15  16  17\n",
      "  18  19  20  21  22  23  24  25  26  27  28  29  30  31  32  33  34  35\n",
      "  36  37  38  39  40  41  42  43  44  45  46  47  48  49  50  51  52  53\n",
      "  54  55  56  57  58  59  60  61  62  63  64  65  66  67  68  69  70  71\n",
      "  72  73  74  75  76  77  78  79  80  81  82  83  84  85  86  87  88  89\n",
      "  90  91  92  93  94  95  96  97  98  99 100]\n"
     ]
    }
   ],
   "source": [
    "eg_array = np.array(range(101))\n",
    "print(eg_array)"
   ]
  },
  {
   "cell_type": "markdown",
   "id": "abc657de-d1af-4d50-83b0-b17d94c56ad5",
   "metadata": {},
   "source": [
    "### Compare the time taken to multiply two Python lists vs. two NumPy arrays."
   ]
  },
  {
   "cell_type": "code",
   "execution_count": 11,
   "id": "49d071e1-1b23-476b-a27a-71b72654ec76",
   "metadata": {},
   "outputs": [
    {
     "name": "stdout",
     "output_type": "stream",
     "text": [
      "Python list addn time:  0.0010058879852294922\n"
     ]
    }
   ],
   "source": [
    "start = time.time()\n",
    "result = [a * b for a in list1 for b in list2]\n",
    "end = time.time()\n",
    "print(\"Python list addn time: \", end - start)"
   ]
  },
  {
   "cell_type": "code",
   "execution_count": 12,
   "id": "a1591b2d-c5fb-4a7b-a23f-683fafc11d7c",
   "metadata": {},
   "outputs": [
    {
     "ename": "ValueError",
     "evalue": "operands could not be broadcast together with shapes (4,) (3,3) ",
     "output_type": "error",
     "traceback": [
      "\u001b[1;31m---------------------------------------------------------------------------\u001b[0m",
      "\u001b[1;31mValueError\u001b[0m                                Traceback (most recent call last)",
      "Cell \u001b[1;32mIn[12], line 2\u001b[0m\n\u001b[0;32m      1\u001b[0m start \u001b[38;5;241m=\u001b[39m time\u001b[38;5;241m.\u001b[39mtime()\n\u001b[1;32m----> 2\u001b[0m result \u001b[38;5;241m=\u001b[39m arr1 \u001b[38;5;241m*\u001b[39m arr2\n\u001b[0;32m      3\u001b[0m end \u001b[38;5;241m=\u001b[39m time\u001b[38;5;241m.\u001b[39mtime()\n\u001b[0;32m      4\u001b[0m \u001b[38;5;28mprint\u001b[39m(\u001b[38;5;124m\"\u001b[39m\u001b[38;5;124mPython list addn time: \u001b[39m\u001b[38;5;124m\"\u001b[39m, end \u001b[38;5;241m-\u001b[39m start)\n",
      "\u001b[1;31mValueError\u001b[0m: operands could not be broadcast together with shapes (4,) (3,3) "
     ]
    }
   ],
   "source": [
    "start = time.time()\n",
    "result = arr1 * arr2\n",
    "end = time.time()\n",
    "print(\"Python list addn time: \", end - start)"
   ]
  },
  {
   "cell_type": "markdown",
   "id": "ad07690f-4018-41ca-a3ec-a88f2ea586bc",
   "metadata": {},
   "source": [
    "### Find the memory size of a NumPy array with 1 million elements."
   ]
  },
  {
   "cell_type": "code",
   "execution_count": 13,
   "id": "133eae6b-5607-46d8-9549-9a04a37201ff",
   "metadata": {},
   "outputs": [
    {
     "name": "stdout",
     "output_type": "stream",
     "text": [
      "40000000\n"
     ]
    }
   ],
   "source": [
    "eg_np_array = np.array(range(10000000))\n",
    "print(eg_np_array.nbytes)"
   ]
  },
  {
   "cell_type": "code",
   "execution_count": null,
   "id": "ab29fe38-e075-4b44-b2e2-ef397dfa5945",
   "metadata": {},
   "outputs": [],
   "source": []
  }
 ],
 "metadata": {
  "kernelspec": {
   "display_name": "Python 3 (ipykernel)",
   "language": "python",
   "name": "python3"
  },
  "language_info": {
   "codemirror_mode": {
    "name": "ipython",
    "version": 3
   },
   "file_extension": ".py",
   "mimetype": "text/x-python",
   "name": "python",
   "nbconvert_exporter": "python",
   "pygments_lexer": "ipython3",
   "version": "3.12.7"
  }
 },
 "nbformat": 4,
 "nbformat_minor": 5
}
