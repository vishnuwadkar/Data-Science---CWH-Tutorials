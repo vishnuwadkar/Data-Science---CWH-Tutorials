{
 "cells": [
  {
   "cell_type": "code",
   "execution_count": 2,
   "id": "a13a4457-3bb5-4f48-9966-e89173dfc033",
   "metadata": {},
   "outputs": [],
   "source": [
    "import json"
   ]
  },
  {
   "cell_type": "code",
   "execution_count": 3,
   "id": "f5f69ded-1925-4899-a341-13d26f2cf387",
   "metadata": {},
   "outputs": [],
   "source": [
    "def load_data(filename):\n",
    "    with open(filename,\"r\") as file:\n",
    "        return json.load(file)"
   ]
  },
  {
   "cell_type": "code",
   "execution_count": 15,
   "id": "8b235b1b-dbbf-4ebb-871e-c0f55488d70d",
   "metadata": {},
   "outputs": [],
   "source": [
    "def ppl_you_may_know(user_id,data):\n",
    "    user_friends = {}\n",
    "    for user in data[\"users\"]:\n",
    "        user_friends[user[\"id\"]] = set(user[\"friends\"])\n",
    "        \n",
    "    if user_id not in user_friends:\n",
    "        return []\n",
    "\n",
    "    direct_friends = user_friends[user_id]\n",
    "\n",
    "    suggestions = {}\n",
    "    for friend in direct_friends:\n",
    "        #for all friends of friends:\n",
    "        for mutual in user_friends[friend]:\n",
    "            if mutual != user_id and mutual not in direct_friends:\n",
    "                suggestions[mutual] = suggestions.get(mutual, 0) + 1\n",
    "\n",
    "    sorted_suggestions = sorted(suggestions.items(), key = lambda x:x[1], reverse = True)\n",
    "    return [user_id for user_id, in sorted_suggestions] \n",
    "\n",
    "        "
   ]
  },
  {
   "cell_type": "code",
   "execution_count": 16,
   "id": "31e6002a-2276-4e36-a3e6-f60c4b9dcf58",
   "metadata": {},
   "outputs": [
    {
     "name": "stdin",
     "output_type": "stream",
     "text": [
      "Enter the user ID, you want suggestions for:  3\n"
     ]
    },
    {
     "name": "stdout",
     "output_type": "stream",
     "text": [
      "People you may know for 3 are:\n",
      "[6, 5, 9, 13, 10, 14]\n"
     ]
    }
   ],
   "source": [
    "data = load_data(\"massive_data.json\")\n",
    "user_id = int(input(\"Enter the user ID, you want suggestions for: \"))\n",
    "recc = ppl_you_may_know(user_id, data)\n",
    "print(f\"People you may know for {user_id} are:\\n{recc}\")"
   ]
  },
  {
   "cell_type": "code",
   "execution_count": null,
   "id": "15cc1aad-fd95-4cc4-95f6-8819538ae4e4",
   "metadata": {},
   "outputs": [],
   "source": []
  }
 ],
 "metadata": {
  "kernelspec": {
   "display_name": "Python 3 (ipykernel)",
   "language": "python",
   "name": "python3"
  },
  "language_info": {
   "codemirror_mode": {
    "name": "ipython",
    "version": 3
   },
   "file_extension": ".py",
   "mimetype": "text/x-python",
   "name": "python",
   "nbconvert_exporter": "python",
   "pygments_lexer": "ipython3",
   "version": "3.12.7"
  }
 },
 "nbformat": 4,
 "nbformat_minor": 5
}
