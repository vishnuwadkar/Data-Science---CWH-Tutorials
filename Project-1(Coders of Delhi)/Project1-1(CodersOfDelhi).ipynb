{
 "cells": [
  {
   "cell_type": "code",
   "execution_count": 20,
   "id": "0430f64f-d959-48ad-b4c3-57fc12f3a4b3",
   "metadata": {},
   "outputs": [],
   "source": [
    "import json  #importing the json module"
   ]
  },
  {
   "cell_type": "code",
   "execution_count": 21,
   "id": "193917ea-0f5f-4d1a-b9a4-0aee355ea648",
   "metadata": {},
   "outputs": [],
   "source": [
    "def read_json(json_data):    #a function that reads data from json file\n",
    "    with open(json_data,\"r\") as file:\n",
    "        data = json.load(file)   #we used 'load' here bcoz we want to read a json file and not convert json string \n",
    "    return data"
   ]
  },
  {
   "cell_type": "code",
   "execution_count": 22,
   "id": "4b8df7d9-19eb-40c9-87d8-a8b0149c1dce",
   "metadata": {},
   "outputs": [],
   "source": [
    "myData = read_json(\"data.json\")  #implementing the function on our json file"
   ]
  },
  {
   "cell_type": "code",
   "execution_count": 23,
   "id": "fd1a195e-1c9f-4b6e-9836-1029ceea87d8",
   "metadata": {},
   "outputs": [
    {
     "name": "stdout",
     "output_type": "stream",
     "text": [
      "{'users': [{'id': 1, 'name': 'Amit', 'friends': [2, 3], 'liked_pages': [101]}, {'id': 2, 'name': 'Priya', 'friends': [1, 4], 'liked_pages': [102]}, {'id': 3, 'name': 'Rahul', 'friends': [1], 'liked_pages': [101, 103]}, {'id': 4, 'name': 'Sara', 'friends': [2], 'liked_pages': [104]}], 'pages': [{'id': 101, 'name': 'Python Developers'}, {'id': 102, 'name': 'Data Science Enthusiasts'}, {'id': 103, 'name': 'AI & ML Community'}, {'id': 104, 'name': 'Web Dev Hub'}]}\n"
     ]
    }
   ],
   "source": [
    "print(myData)"
   ]
  },
  {
   "cell_type": "markdown",
   "id": "67e5c05b-4e6c-4731-9677-f959da28053d",
   "metadata": {},
   "source": [
    "### Display users and their connections"
   ]
  },
  {
   "cell_type": "code",
   "execution_count": 24,
   "id": "fa246b58-1c16-42fd-a790-3defd1193901",
   "metadata": {},
   "outputs": [],
   "source": [
    "def disp_users(data):   #a function that display user details\n",
    "    print(\"Users and their connections:\\n\")\n",
    "    for user in data['users']:  #iterating specifically over the users sub dict\n",
    "        print(f\"{user['id']} - {user['name']} is friends with {user['friends']} and has liked {user['liked_pages']}\")\n",
    "    print(\"\\nPages information:\\n\")\n",
    "    for page in data['pages']:  #iterating specifically over pages sub dict\n",
    "        print(f\"{page['id']}:{page['name']}\")"
   ]
  },
  {
   "cell_type": "code",
   "execution_count": 25,
   "id": "00a83085-3af3-4199-9a8a-0454d866a776",
   "metadata": {},
   "outputs": [
    {
     "name": "stdout",
     "output_type": "stream",
     "text": [
      "Users and their connections:\n",
      "\n",
      "1 - Amit is friends with [2, 3] and has liked [101]\n",
      "2 - Priya is friends with [1, 4] and has liked [102]\n",
      "3 - Rahul is friends with [1] and has liked [101, 103]\n",
      "4 - Sara is friends with [2] and has liked [104]\n",
      "\n",
      "Pages information:\n",
      "\n",
      "101:Python Developers\n",
      "102:Data Science Enthusiasts\n",
      "103:AI & ML Community\n",
      "104:Web Dev Hub\n"
     ]
    }
   ],
   "source": [
    "disp_users(myData)  #calling the function with our data variable as an arg"
   ]
  },
  {
   "cell_type": "code",
   "execution_count": null,
   "id": "884225ee-1c97-4c9a-8c16-5b055c8494f5",
   "metadata": {},
   "outputs": [],
   "source": []
  }
 ],
 "metadata": {
  "kernelspec": {
   "display_name": "Python 3 (ipykernel)",
   "language": "python",
   "name": "python3"
  },
  "language_info": {
   "codemirror_mode": {
    "name": "ipython",
    "version": 3
   },
   "file_extension": ".py",
   "mimetype": "text/x-python",
   "name": "python",
   "nbconvert_exporter": "python",
   "pygments_lexer": "ipython3",
   "version": "3.12.7"
  }
 },
 "nbformat": 4,
 "nbformat_minor": 5
}
