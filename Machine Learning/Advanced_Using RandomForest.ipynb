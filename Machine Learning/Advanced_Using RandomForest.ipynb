{
 "cells": [
  {
   "cell_type": "code",
   "execution_count": 1,
   "id": "b482c708-e3fd-4769-a369-d60a6e8ee269",
   "metadata": {},
   "outputs": [],
   "source": [
    "from sklearn.ensemble import RandomForestClassifier"
   ]
  },
  {
   "cell_type": "code",
   "execution_count": 2,
   "id": "4611db9e-ee9e-4988-9ebe-6c6502e5e365",
   "metadata": {},
   "outputs": [],
   "source": [
    " # Step 1: Same Data\n",
    " # Features: [weight (grams), color (0 = red, 1 = orange)]\n",
    " features = [\n",
    " [150, 0], # Apple\n",
    " [170, 0], # Apple\n",
    " [130, 1], # Orange\n",
    " [120, 1], # Orange\n",
    " ]\n",
    " labels = [\"apple\", \"apple\", \"orange\", \"orange\"]\n"
   ]
  },
  {
   "cell_type": "code",
   "execution_count": 3,
   "id": "66728d44-eab3-4d9b-b3b3-f7d652ac4aec",
   "metadata": {},
   "outputs": [],
   "source": [
    "# Step 2: Train a \"smarter\" model\n",
    "# We'll create a forest with 10 decision trees (n_estimators=10)\n",
    "# random_state ensures we get the same result every time we run the code\n",
    "clf = RandomForestClassifier(n_estimators=10, random_state=42)\n",
    "clf = clf.fit(features, labels)"
   ]
  },
  {
   "cell_type": "code",
   "execution_count": 4,
   "id": "4d4241ba-7df1-4b18-984c-3a68caa61528",
   "metadata": {},
   "outputs": [
    {
     "name": "stdout",
     "output_type": "stream",
     "text": [
      "['apple']\n",
      "['orange']\n"
     ]
    }
   ],
   "source": [
    "# Step 3: Predict! The logic is exactly the same\n",
    "print(clf.predict([[160, 0]])) # Heavy and red-ish?\n",
    "print(clf.predict([[115, 1]])) # Light and orange?"
   ]
  },
  {
   "cell_type": "markdown",
   "id": "1cd1bf6f-d9a0-40ea-bb07-3e95c4de557f",
   "metadata": {},
   "source": [
    "### As you can see, the process is nearly identical, but you're now using a more powerful and robust model \"under the hood.\""
   ]
  },
  {
   "cell_type": "code",
   "execution_count": null,
   "id": "4955e8ec-c8af-401f-aa5d-a2c57bfa8318",
   "metadata": {},
   "outputs": [],
   "source": []
  }
 ],
 "metadata": {
  "kernelspec": {
   "display_name": "Python 3 (ipykernel)",
   "language": "python",
   "name": "python3"
  },
  "language_info": {
   "codemirror_mode": {
    "name": "ipython",
    "version": 3
   },
   "file_extension": ".py",
   "mimetype": "text/x-python",
   "name": "python",
   "nbconvert_exporter": "python",
   "pygments_lexer": "ipython3",
   "version": "3.12.7"
  }
 },
 "nbformat": 4,
 "nbformat_minor": 5
}
