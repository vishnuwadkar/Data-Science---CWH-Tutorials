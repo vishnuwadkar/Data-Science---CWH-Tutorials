{
 "cells": [
  {
   "cell_type": "code",
   "execution_count": 1,
   "id": "fb5200eb-9ca3-4e64-a752-dcdd1689c574",
   "metadata": {},
   "outputs": [],
   "source": [
    "from sklearn.tree import DecisionTreeClassifier"
   ]
  },
  {
   "cell_type": "code",
   "execution_count": 2,
   "id": "d75dee99-4cb0-43a4-be4e-a4f93693a5cf",
   "metadata": {},
   "outputs": [],
   "source": [
    "features = [[150,0],\n",
    "            [170,0],\n",
    "            [130,1],\n",
    "            [125,1]]"
   ]
  },
  {
   "cell_type": "code",
   "execution_count": 3,
   "id": "992580fd-28eb-470b-9ec5-4ee84a48d366",
   "metadata": {},
   "outputs": [],
   "source": [
    "labels = ['apple','apple','orange','orange']\n",
    "clf = DecisionTreeClassifier()"
   ]
  },
  {
   "cell_type": "code",
   "execution_count": 4,
   "id": "06394b4d-987e-4f97-97a2-d848398647e4",
   "metadata": {},
   "outputs": [],
   "source": [
    "clf = clf.fit(features,labels)"
   ]
  },
  {
   "cell_type": "code",
   "execution_count": 12,
   "id": "12e85fc4-a3c6-4984-8473-ffe14ae74dea",
   "metadata": {},
   "outputs": [],
   "source": [
    "prediction = clf.predict([[200,1]])"
   ]
  },
  {
   "cell_type": "code",
   "execution_count": 13,
   "id": "c0678be0-f9ca-4e99-98ce-0bec7bf572fe",
   "metadata": {},
   "outputs": [
    {
     "name": "stdout",
     "output_type": "stream",
     "text": [
      "Thus the fruit is apple.\n"
     ]
    }
   ],
   "source": [
    "print(f\"Thus the fruit is {prediction[0]}.\")"
   ]
  }
 ],
 "metadata": {
  "kernelspec": {
   "display_name": "Python 3 (ipykernel)",
   "language": "python",
   "name": "python3"
  },
  "language_info": {
   "codemirror_mode": {
    "name": "ipython",
    "version": 3
   },
   "file_extension": ".py",
   "mimetype": "text/x-python",
   "name": "python",
   "nbconvert_exporter": "python",
   "pygments_lexer": "ipython3",
   "version": "3.12.7"
  }
 },
 "nbformat": 4,
 "nbformat_minor": 5
}
